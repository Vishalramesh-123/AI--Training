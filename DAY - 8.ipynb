{
 "cells": [
  {
   "cell_type": "code",
   "execution_count": null,
   "id": "6c7c4ce0",
   "metadata": {},
   "outputs": [],
   "source": [
    "#oops\n",
    "#inheritance "
   ]
  },
  {
   "cell_type": "code",
   "execution_count": null,
   "id": "4f1cc7c2",
   "metadata": {},
   "outputs": [],
   "source": [
    "class animal():\n",
    "    def sound(self):\n",
    "        print(\"All animals make sound\")\n",
    "class dog(animal):\n",
    "    def bark(self):\n",
    "        print(\"Dog is barking\")\n",
    "class cat(dog):\n",
    "    def meow(self):\n",
    "        print(\"Cat is meow\")\n",
    "\n",
    "ani1 = cat()\n",
    "ani1.meow()\n",
    "ani1.bark()\n",
    "ani1.sound()\n"
   ]
  },
  {
   "cell_type": "code",
   "execution_count": null,
   "id": "b8f4e143",
   "metadata": {},
   "outputs": [],
   "source": [
    "class Student:\n",
    "    def __init__(s, name, roll_No):\n",
    "        s.name = name\n",
    "        s.roll_No = roll_No\n",
    "\n",
    "    def display(s):\n",
    "        print(f\"Name: {s.name}, Roll Number: {s.roll_No}\")\n",
    "\n",
    "s1 = Student(\"thara\", 101)\n",
    "s2 = Student(\"hari\", 102)\n",
    "s1.display()\n",
    "s2.display()\n"
   ]
  },
  {
   "cell_type": "code",
   "execution_count": null,
   "id": "411ff092",
   "metadata": {},
   "outputs": [],
   "source": [
    "\n",
    "class Employee:\n",
    "    def __init__(s, name, salary):\n",
    "        s.name = name\n",
    "        s.salary = salary\n",
    "    def detail(s):\n",
    "        print(f\"Name: {s.name}\")\n",
    "        print(f\"Salary: {s.salary}\")\n",
    "class Manager(Employee):\n",
    "    def role(s):\n",
    "        print(\"I am a Manager\")\n",
    "class Developer(Employee):\n",
    "    def role(s):\n",
    "        print(\"I am a Developer\")\n",
    "        \n",
    "m1 = Manager(\"thara\", 100000)\n",
    "d1 = Developer(\"hari\", 100000)\n",
    "\n",
    "d1.detail()\n",
    "d1.role()\n",
    "m1.detail()\n",
    "m1.role()\n"
   ]
  }
 ],
 "metadata": {
  "language_info": {
   "name": "python"
  }
 },
 "nbformat": 4,
 "nbformat_minor": 5
}
