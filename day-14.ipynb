{
 "cells": [
  {
   "cell_type": "code",
   "execution_count": null,
   "id": "8a20631d",
   "metadata": {},
   "outputs": [],
   "source": [
    "#probality- a chance of an event occurring\n",
    "#p(a) = n(a)/n(s)\n",
    "# n(s) = total number of outcomes\n",
    "# n(a) = number of outcomes in event a\n",
    "# \n",
    "# \n",
    "# \n",
    "# #"
   ]
  },
  {
   "cell_type": "code",
   "execution_count": 28,
   "id": "3f0d74fa",
   "metadata": {},
   "outputs": [
    {
     "name": "stdout",
     "output_type": "stream",
     "text": [
      "['apple', 'apple', 'apple', 'bananabanana', 'orange']\n",
      "0.6\n"
     ]
    }
   ],
   "source": [
    "basket = ['apple']*3+['banana'*2]+['orange'*1]\n",
    "total=len(basket)\n",
    "print(basket)\n",
    "t_apple = basket.count('apple')/total\n",
    "print(t_apple) "
   ]
  },
  {
   "cell_type": "code",
   "execution_count": 29,
   "id": "432dc6d2",
   "metadata": {},
   "outputs": [
    {
     "name": "stdout",
     "output_type": "stream",
     "text": [
      "['apple', 'apple', 'apple', 'banana', 'banana', 'orange']\n",
      "0.5\n"
     ]
    }
   ],
   "source": [
    "basket = ['apple']*3+['banana']*2+['orange']*1\n",
    "total=len(basket)\n",
    "print(basket)\n",
    "t_apple =(basket.count('banana')+basket.count('orange'))/total\n",
    "print(t_apple) "
   ]
  },
  {
   "cell_type": "code",
   "execution_count": 34,
   "id": "476630b6",
   "metadata": {},
   "outputs": [
    {
     "name": "stdout",
     "output_type": "stream",
     "text": [
      "['apple', 'apple', 'apple', 'banana', 'banana', 'orange']\n",
      "0.6666666666666667\n"
     ]
    }
   ],
   "source": [
    "basket = ['apple']*3+['banana']*2+['orange']*1\n",
    "total=len(basket)\n",
    "print(basket)\n",
    "no_orange = 1-basket.count('banana')/total\n",
    "print(no_orange) "
   ]
  },
  {
   "cell_type": "code",
   "execution_count": null,
   "id": "67c11028",
   "metadata": {},
   "outputs": [
    {
     "name": "stdout",
     "output_type": "stream",
     "text": [
      "3\n"
     ]
    }
   ],
   "source": [
    "coin=['hh','tt','ht','th']\n",
    "count=0\n",
    "for i in coin:\n",
    "    if 'h'in i:\n",
    "        count+=1\n",
    "print(count)"
   ]
  },
  {
   "cell_type": "code",
   "execution_count": null,
   "id": "b83bbd96",
   "metadata": {},
   "outputs": [],
   "source": [
    "#total 100 days \n",
    "# 60 day rainy\n",
    "#  40 day sunny\n",
    "#50 people took umbrella in rainy days\n",
    "#in 40 days 10 people took umbrella\n",
    "#p(a/b) = p(a n b)^2/p(b)\n"
   ]
  },
  {
   "cell_type": "code",
   "execution_count": null,
   "id": "107f04b2",
   "metadata": {},
   "outputs": [
    {
     "name": "stdout",
     "output_type": "stream",
     "text": [
      "0.8333333333333334\n",
      "0.25\n"
     ]
    }
   ],
   "source": [
    "#conditional probality\n",
    "#p(a/b) = p(a n b)/p(b)\n",
    "#p(a n b) = p(a)*p(b/a)\n",
    "\n",
    "total=100\n",
    "sunny=40\n",
    "rainy=60\n",
    "umbrella_rainy=50\n",
    "umbrella_sunny=10\n",
    "u_r = umbrella_rainy/rainy\n",
    "u_s = umbrella_sunny/sunny\n",
    "print(u_r)\n",
    "print(u_s)\n"
   ]
  },
  {
   "cell_type": "code",
   "execution_count": null,
   "id": "2ea29ed5",
   "metadata": {},
   "outputs": [],
   "source": [
    "#total=100\n",
    "# monday class=80\n",
    "# tuesday class=60 in 80\n",
    "# \n",
    "# \n",
    "# #"
   ]
  },
  {
   "cell_type": "code",
   "execution_count": 52,
   "id": "80a9a646",
   "metadata": {},
   "outputs": [
    {
     "name": "stdout",
     "output_type": "stream",
     "text": [
      "0.8\n",
      "0.75\n",
      "0.5\n"
     ]
    }
   ],
   "source": [
    "total=100\n",
    "monday_class=80 \n",
    "tuesday_class=60\n",
    "wednesday_class=30\n",
    "mon_class=monday_class/total#here we use monday_class as 'a' variable name\n",
    "print(mon_class)\n",
    "mon_tue_class=tuesday_class/monday_class\n",
    "print(mon_tue_class)\n",
    "wed_class=wednesday_class/tuesday_class\n",
    "print(wed_class)"
   ]
  },
  {
   "cell_type": "code",
   "execution_count": null,
   "id": "d9601b4b",
   "metadata": {},
   "outputs": [],
   "source": [
    "#Baye's theorem \n",
    "\n",
    "\n",
    "#p(a/b) = (p(b/a)*p(a))/p(b)"
   ]
  },
  {
   "cell_type": "code",
   "execution_count": null,
   "id": "a3dd95f4",
   "metadata": {},
   "outputs": [],
   "source": [
    "#total mails =100\n",
    "#spam mails = 40\n",
    "# non spam mails = 60\n",
    "#  \n",
    "# \n",
    "# \n",
    "# \n",
    "# #"
   ]
  },
  {
   "cell_type": "code",
   "execution_count": 3,
   "id": "6aeb7f69",
   "metadata": {},
   "outputs": [
    {
     "name": "stdout",
     "output_type": "stream",
     "text": [
      "40.0\n",
      "0.75\n"
     ]
    }
   ],
   "source": [
    "#frequency value\n",
    "#p(a/b) = p(b/a)*p(a)/p(b)\n",
    "p_spam=40\n",
    "p_non_spam=60\n",
    "#likelihood(\"win\" word found in both spam and non spam mails)\n",
    "p_win_given_spam=30/40\n",
    "p_win_given_non_spam=10/60\n",
    "#total probability of \"win\" word in all mails\n",
    "p_win=(p_win_given_spam*p_spam )+ (p_win_given_non_spam*p_non_spam)\n",
    "print(p_win)\n",
    "#bayes theorem\n",
    "p_spam_given_win=(p_win_given_spam*p_spam)/p_win\n",
    "print(p_spam_given_win)\n",
    "\n"
   ]
  },
  {
   "cell_type": "code",
   "execution_count": 7,
   "id": "81d49d4f",
   "metadata": {},
   "outputs": [
    {
     "name": "stdout",
     "output_type": "stream",
     "text": [
      "0.4000000000000001\n"
     ]
    }
   ],
   "source": [
    "rain=0.2\n",
    "no_rain=1-rain\n",
    "#probability of umbrella in rainy days\n",
    "p_c_rain=0.8\n",
    "p_c_no_rain=0.3\n",
    "cloudy=(p_c_rain*rain + p_c_no_rain*no_rain)\n",
    "p_cloudy=(p_c_rain*rain )/cloudy\n",
    "print(p_cloudy)"
   ]
  }
 ],
 "metadata": {
  "kernelspec": {
   "display_name": "Python 3",
   "language": "python",
   "name": "python3"
  },
  "language_info": {
   "codemirror_mode": {
    "name": "ipython",
    "version": 3
   },
   "file_extension": ".py",
   "mimetype": "text/x-python",
   "name": "python",
   "nbconvert_exporter": "python",
   "pygments_lexer": "ipython3",
   "version": "3.11.9"
  }
 },
 "nbformat": 4,
 "nbformat_minor": 5
}
