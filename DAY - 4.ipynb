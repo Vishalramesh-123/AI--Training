{
 "cells": [
  {
   "cell_type": "code",
   "execution_count": null,
   "id": "2e6ab708",
   "metadata": {},
   "outputs": [
    {
     "name": "stdout",
     "output_type": "stream",
     "text": [
      "[]\n",
      "[]\n",
      "['thara,kichu,24,64.0,TRUE']\n",
      "list[slice(1, None, None)]\n",
      "['thara,kichu,24,64.0,TRUE']\n"
     ]
    }
   ],
   "source": [
    "#LIST -collection of data []\n",
    "list1 = [\"thara,kichu,24,64.0,TRUE\"]\n",
    "print(list1[:-1])\n",
    "print(list1[1:4:2])\n",
    "print(list1[::-3])\n",
    "print(list[1::])\n",
    "print(list1[2::-2])"
   ]
  },
  {
   "cell_type": "code",
   "execution_count": 7,
   "id": "d1715bbf",
   "metadata": {},
   "outputs": [
    {
     "name": "stdout",
     "output_type": "stream",
     "text": [
      "['thara,kichu,24,64.0,TRUE']\n",
      "<built-in method clear of list object at 0x000002326E7807C0>\n"
     ]
    }
   ],
   "source": [
    "#list operations -append,insert,pop,remove,copy,reverse,sort,clear\n",
    "list1 = [\"thara,kichu,24,64.0,TRUE\"]\n",
    "list2=list1.copy()\n",
    "print(list2)\n",
    "print(list1.clear)"
   ]
  },
  {
   "cell_type": "code",
   "execution_count": null,
   "id": "907f7918",
   "metadata": {},
   "outputs": [
    {
     "name": "stdout",
     "output_type": "stream",
     "text": [
      "kichu\n"
     ]
    }
   ],
   "source": [
    "#Tuple-()\n",
    "#count,index\n",
    "tuple1=('vishu','kichu',24,64.0)\n",
    "print(tuple1[1])"
   ]
  },
  {
   "cell_type": "code",
   "execution_count": null,
   "id": "358234ac",
   "metadata": {},
   "outputs": [],
   "source": [
    "#set -{}"
   ]
  },
  {
   "cell_type": "code",
   "execution_count": null,
   "id": "17d17dc2",
   "metadata": {},
   "outputs": [
    {
     "data": {
      "text/plain": [
       "7"
      ]
     },
     "execution_count": 15,
     "metadata": {},
     "output_type": "execute_result"
    }
   ],
   "source": [
    "#remove duplication from the list\n",
    "def unique_item(text):\n",
    "    w=text.lower().split()\n",
    "    unique=set(w)\n",
    "    return len(unique)\n",
    "unique_item(\"thara is a goodgirl and thara is a cute girl\")"
   ]
  },
  {
   "cell_type": "code",
   "execution_count": 16,
   "id": "9d57f7d0",
   "metadata": {},
   "outputs": [
    {
     "name": "stdout",
     "output_type": "stream",
     "text": [
      "thara\n",
      "hari\n",
      "lotus\n"
     ]
    }
   ],
   "source": [
    "#print words loonger than 3 letters from the list \n",
    "list1=[\"thara\",\"hari\",\"lotus\",\"sri\",\"joe\"]\n",
    "for i in list1:\n",
    "    if len(i)>3:\n",
    "        print(i)\n",
    "        "
   ]
  }
 ],
 "metadata": {
  "kernelspec": {
   "display_name": "Python 3",
   "language": "python",
   "name": "python3"
  },
  "language_info": {
   "codemirror_mode": {
    "name": "ipython",
    "version": 3
   },
   "file_extension": ".py",
   "mimetype": "text/x-python",
   "name": "python",
   "nbconvert_exporter": "python",
   "pygments_lexer": "ipython3",
   "version": "3.12.6"
  }
 },
 "nbformat": 4,
 "nbformat_minor": 5
}
