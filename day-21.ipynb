{
 "cells": [
  {
   "cell_type": "code",
   "execution_count": null,
   "id": "762766b1",
   "metadata": {},
   "outputs": [],
   "source": [
    "def fact(n):\n",
    "    if (n>1):\n",
    "        return n*fact(n-1)\n",
    "    return n\n",
    "print(fact(4))"
   ]
  },
  {
   "cell_type": "code",
   "execution_count": null,
   "id": "0f0450db",
   "metadata": {},
   "outputs": [],
   "source": [
    "def fact(n):\n",
    "    if n==1:\n",
    "        return 1\n",
    "    else:\n",
    "        return n*fact(n-1)\n",
    "    \n",
    "print(fact(4))"
   ]
  },
  {
   "cell_type": "code",
   "execution_count": null,
   "id": "30442898",
   "metadata": {},
   "outputs": [],
   "source": [
    "def fact(n):\n",
    "    res=1\n",
    "    for i in range(1,n+1):\n",
    "        res*=i\n",
    "    return res  \n",
    "print(fact(4))  \n",
    "\n",
    "            \n"
   ]
  },
  {
   "cell_type": "code",
   "execution_count": null,
   "id": "5dcf9784",
   "metadata": {},
   "outputs": [],
   "source": [
    "def fibo(n):\n",
    "    a=0\n",
    "    b=1\n",
    "    if (n==1):\n",
    "        return 0\n",
    "    elif (n==1):\n",
    "        return 1\n",
    "    for i in range(2,n+1):\n",
    "        t=a+b\n",
    "        a=b\n",
    "        b=t\n",
    "    return b\n",
    "print(fibo(5))    \n"
   ]
  },
  {
   "cell_type": "code",
   "execution_count": 36,
   "id": "89220a8f",
   "metadata": {},
   "outputs": [
    {
     "data": {
      "text/plain": [
       "8"
      ]
     },
     "execution_count": 36,
     "metadata": {},
     "output_type": "execute_result"
    }
   ],
   "source": [
    "def fibo(n):\n",
    "   \n",
    "    if (n==0):\n",
    "        return 0\n",
    "    elif (n==1):\n",
    "        return 1\n",
    "    \n",
    "    return fibo(n-1)+fibo(n-2)\n",
    "fibo(6)    \n"
   ]
  },
  {
   "cell_type": "code",
   "execution_count": 4,
   "id": "86c7e88b",
   "metadata": {},
   "outputs": [
    {
     "data": {
      "text/plain": [
       "6"
      ]
     },
     "execution_count": 4,
     "metadata": {},
     "output_type": "execute_result"
    }
   ],
   "source": [
    "def sum_of(a):\n",
    "    s=0\n",
    "    for i in a:\n",
    "        s+=i\n",
    "    return s\n",
    "a=[1,2,3]\n",
    "sum_of(a)"
   ]
  },
  {
   "cell_type": "code",
   "execution_count": 8,
   "id": "6c62095a",
   "metadata": {},
   "outputs": [
    {
     "data": {
      "text/plain": [
       "10"
      ]
     },
     "execution_count": 8,
     "metadata": {},
     "output_type": "execute_result"
    }
   ],
   "source": [
    "def sum_of(n):\n",
    "    s=0\n",
    "    while (n>0):\n",
    "        s+=n%10\n",
    "        n=n//10\n",
    "    return s\n",
    "sum_of(1234)    \n"
   ]
  },
  {
   "cell_type": "code",
   "execution_count": 9,
   "id": "9d11a2a6",
   "metadata": {},
   "outputs": [
    {
     "data": {
      "text/plain": [
       "10"
      ]
     },
     "execution_count": 9,
     "metadata": {},
     "output_type": "execute_result"
    }
   ],
   "source": [
    "def sum_of(n):\n",
    "    if(n==0):\n",
    "        return 0\n",
    "    return (n%10)+(sum_of(n//10)) \n",
    "sum_of(1234)   \n",
    "    "
   ]
  },
  {
   "cell_type": "code",
   "execution_count": null,
   "id": "2bec3927",
   "metadata": {},
   "outputs": [
    {
     "name": "stdout",
     "output_type": "stream",
     "text": [
      "4\n"
     ]
    }
   ],
   "source": [
    "a=[1,1,0,1,1]\n",
    "c=0\n",
    "for i in a:\n",
    "    c+=i\n",
    "print(c)        "
   ]
  },
  {
   "cell_type": "code",
   "execution_count": 17,
   "id": "d72b2c93",
   "metadata": {},
   "outputs": [
    {
     "name": "stdout",
     "output_type": "stream",
     "text": [
      "4\n"
     ]
    }
   ],
   "source": [
    "def coin(a):\n",
    "    if not a:\n",
    "        return 0\n",
    "    return a.pop(0) + coin(a)\n",
    "a=[1,1,0,1,1]\n",
    "print(coin(a))\n"
   ]
  },
  {
   "cell_type": "code",
   "execution_count": null,
   "id": "540b9aab",
   "metadata": {},
   "outputs": [
    {
     "ename": "SyntaxError",
     "evalue": "invalid syntax (1070537445.py, line 5)",
     "output_type": "error",
     "traceback": [
      "  \u001b[36mCell\u001b[39m\u001b[36m \u001b[39m\u001b[32mIn[27]\u001b[39m\u001b[32m, line 5\u001b[39m\n\u001b[31m    \u001b[39m\u001b[31mprint( folder1.(\"file\").values())\u001b[39m\n                   ^\n\u001b[31mSyntaxError\u001b[39m\u001b[31m:\u001b[39m invalid syntax\n"
     ]
    }
   ],
   "source": [
    "\n",
    "f={\"file1\":10,\"folder2\":{\"file2\":20,\"file3\":40},\"file4\":30}\n",
    "\n",
    "\n",
    "\n",
    "\n"
   ]
  },
  {
   "cell_type": "code",
   "execution_count": 33,
   "id": "1ff1c1a3",
   "metadata": {},
   "outputs": [
    {
     "name": "stdout",
     "output_type": "stream",
     "text": [
      "100\n"
     ]
    }
   ],
   "source": [
    "def folder_name(folder):\n",
    "    total=0\n",
    "    for key ,values in folder.items():\n",
    "        if isinstance(values,dict):\n",
    "            total+=folder_name(values) \n",
    "        else:\n",
    "            total+=values\n",
    "    return total\n",
    "\n",
    "file1={\"file1\":10,\"folder2\":{\"file2\":20,\"file3\":40},\"file4\":30}\n",
    "\n",
    "print(folder_name(file1))         "
   ]
  },
  {
   "cell_type": "code",
   "execution_count": null,
   "id": "b0c9dacb",
   "metadata": {},
   "outputs": [],
   "source": [
    "\"\"\" \n",
    "function backtracking(state):\n",
    "    if state is a solution:\n",
    "        return state  # Base case\n",
    "    for choice in all possible choices:\n",
    "        if choice is valid:\n",
    "            make choice\n",
    "            result = backtracking(state with choice)\n",
    "            if result is not failure:\n",
    "                return result\n",
    "            undo choice\n",
    "    return failure\n",
    "\"\"\""
   ]
  },
  {
   "cell_type": "code",
   "execution_count": 35,
   "id": "a0e11b4b",
   "metadata": {},
   "outputs": [
    {
     "name": "stdout",
     "output_type": "stream",
     "text": [
      "[1, 2, 3]\n",
      "[1, 3, 2]\n",
      "[2, 1, 3]\n",
      "[2, 3, 1]\n",
      "[3, 1, 2]\n",
      "[3, 2, 1]\n"
     ]
    }
   ],
   "source": [
    "# Pin number\n",
    "def pin_number(path, digits, used, result):\n",
    "    if len(path) == len(digits):\n",
    "        result.append(path.copy())  # store Pin valid\n",
    "        return  # base case\n",
    "    for i in range(len(digits)):\n",
    "        if not used[i]:\n",
    "            used[i] = True\n",
    "            path.append(digits[i])\n",
    "            pin_number(path, digits, used, result)  # Backtracking\n",
    "            path.pop()\n",
    "            used[i] = False\n",
    "result = []\n",
    "digits = [1, 2, 3]\n",
    "used = [False] * len(digits)\n",
    "\n",
    "pin_number([], digits, used, result)\n",
    "\n",
    "for i in result:\n",
    "    print(i)\n",
    "\n"
   ]
  },
  {
   "cell_type": "code",
   "execution_count": null,
   "id": "c8b31d4f",
   "metadata": {},
   "outputs": [],
   "source": []
  },
  {
   "cell_type": "code",
   "execution_count": null,
   "id": "52b8bcdc",
   "metadata": {},
   "outputs": [],
   "source": []
  }
 ],
 "metadata": {
  "kernelspec": {
   "display_name": "Python 3",
   "language": "python",
   "name": "python3"
  },
  "language_info": {
   "codemirror_mode": {
    "name": "ipython",
    "version": 3
   },
   "file_extension": ".py",
   "mimetype": "text/x-python",
   "name": "python",
   "nbconvert_exporter": "python",
   "pygments_lexer": "ipython3",
   "version": "3.11.9"
  }
 },
 "nbformat": 4,
 "nbformat_minor": 5
}
