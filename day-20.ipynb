{
 "cells": [
  {
   "cell_type": "code",
   "execution_count": null,
   "id": "4fc69574",
   "metadata": {},
   "outputs": [],
   "source": [
    "#stack - LIFO\n",
    "# queue -FIFO\n",
    "# linear data structure #o(1)\n",
    "# stack methods\n",
    "# \n",
    "# 1.push - add the element into the stack\n",
    "# 2.pop - remove the element from the stack \n",
    "# 3.top (or) peek - top of the element from the stack \n",
    "# 4.isempty -checks whether the stack is empty or not\n",
    "# 5.size - the size of stack\n",
    "# #"
   ]
  },
  {
   "cell_type": "code",
   "execution_count": null,
   "id": "9e4965c8",
   "metadata": {},
   "outputs": [
    {
     "name": "stdout",
     "output_type": "stream",
     "text": [
      "[3]\n",
      "[6]\n",
      "[7]\n"
     ]
    },
    {
     "ename": "TypeError",
     "evalue": "sta.pop() missing 1 required positional argument: 'item'",
     "output_type": "error",
     "traceback": [
      "\u001b[31m---------------------------------------------------------------------------\u001b[39m",
      "\u001b[31mTypeError\u001b[39m                                 Traceback (most recent call last)",
      "\u001b[36mCell\u001b[39m\u001b[36m \u001b[39m\u001b[32mIn[7]\u001b[39m\u001b[32m, line 15\u001b[39m\n\u001b[32m     13\u001b[39m mystack.push(\u001b[32m6\u001b[39m)\n\u001b[32m     14\u001b[39m mystack.push(\u001b[32m7\u001b[39m)\n\u001b[32m---> \u001b[39m\u001b[32m15\u001b[39m \u001b[43mmystack\u001b[49m\u001b[43m.\u001b[49m\u001b[43mpop\u001b[49m\u001b[43m(\u001b[49m\u001b[43m)\u001b[49m\n",
      "\u001b[31mTypeError\u001b[39m: sta.pop() missing 1 required positional argument: 'item'"
     ]
    }
   ],
   "source": [
    "class Stack:\n",
    "    def __init__(self):\n",
    "        self.stack = []  \n",
    "\n",
    "    def push(self, n):\n",
    "        self.stack.append(n)\n",
    "        print(self.stack)\n",
    "\n",
    "    def pop(self):\n",
    "        if self.stack:\n",
    "            removed = self.stack.pop()\n",
    "            print(f\"Popped: {removed}\")\n",
    "        else:\n",
    "            print(\"Stack is empty!\")\n",
    "        print(self.stack)\n",
    "\n",
    "\n",
    "\n",
    "mystack = Stack()\n",
    "mystack.push(3)\n",
    "mystack.push(6)\n",
    "mystack.push(7)\n",
    "mystack.pop()  \n"
   ]
  },
  {
   "cell_type": "code",
   "execution_count": null,
   "id": "f5f4cc2c",
   "metadata": {},
   "outputs": [
    {
     "data": {
      "text/plain": [
       "[3, 6, 7]"
      ]
     },
     "execution_count": 27,
     "metadata": {},
     "output_type": "execute_result"
    }
   ],
   "source": [
    "class Stack:\n",
    "    def __init__(self):\n",
    "        self.stack = []  \n",
    "\n",
    "    def push(self, n):\n",
    "        self.stack.append(n)\n",
    "\n",
    "    def pop(self):\n",
    "        if self.is_empty():\n",
    "            return(\"Stack is empty!\")    \n",
    "        self.stack.pop()\n",
    "    def peek(self):\n",
    "        return self.stack[-1]\n",
    "    def is_empty(self):\n",
    "        return len(self.stack)==0\n",
    "    def display(self):\n",
    "        return self.stack\n",
    "    \n",
    "mystack = Stack()\n",
    "mystack.push(3)\n",
    "mystack.push(6)\n",
    "mystack.push(7)\n",
    "mystack.pop() \n",
    "mystack.display() \n"
   ]
  },
  {
   "cell_type": "code",
   "execution_count": null,
   "id": "86eb4e01",
   "metadata": {},
   "outputs": [],
   "source": [
    "#Queue\n",
    "# 1.enqueue - add element\n",
    "# 2.dequeue-remove element from the front of the queue\n",
    "# 3.peek - return the front element\n",
    "# 4.isempty -check if the queue is empty or not\n",
    "# #"
   ]
  },
  {
   "cell_type": "code",
   "execution_count": 3,
   "id": "ca7ea6fd",
   "metadata": {},
   "outputs": [
    {
     "name": "stdout",
     "output_type": "stream",
     "text": [
      "['1', '2', '3']\n",
      "['2', '3']\n",
      "2\n"
     ]
    }
   ],
   "source": [
    "queue=[]\n",
    "#enqueue\n",
    "queue.append('1')\n",
    "queue.append('2')\n",
    "queue.append('3')\n",
    "print(queue)\n",
    "#dequeue\n",
    "queue.pop(0)\n",
    "print(queue)\n",
    "#peek\n",
    "f=queue[0]\n",
    "print(f)\n"
   ]
  },
  {
   "cell_type": "code",
   "execution_count": 13,
   "id": "0be585f7",
   "metadata": {},
   "outputs": [
    {
     "name": "stdout",
     "output_type": "stream",
     "text": [
      "[1, 2]\n",
      "1\n",
      "[2]\n"
     ]
    }
   ],
   "source": [
    "class my_q:\n",
    "    def __init__(s):\n",
    "        s.q = []\n",
    "    def en_q(s, n):\n",
    "        s.q.append(n)\n",
    "    def de_q(s):\n",
    "        if s.is_empty(s.q):\n",
    "            return \"Queue is empty\"\n",
    "        s.q.pop(0)\n",
    "    def is_empty(s,n):\n",
    "        if n==0:\n",
    "            return True\n",
    "        else:\n",
    "            return False    \n",
    "    def peek(s):\n",
    "        if s.q:\n",
    "            return s.q[0]\n",
    "        else:\n",
    "            return \"Queue is empty\"\n",
    "    def display(s):\n",
    "        print(s.q)    \n",
    "Q = my_q()\n",
    "Q.en_q(1)\n",
    "Q.en_q(2)\n",
    "Q.display()\n",
    "print(Q.peek())\n",
    "Q.de_q()\n",
    "Q.display()\n",
    "\n",
    "\n",
    "\n",
    "\n"
   ]
  },
  {
   "cell_type": "code",
   "execution_count": 18,
   "id": "fdff7cd9",
   "metadata": {},
   "outputs": [
    {
     "name": "stdout",
     "output_type": "stream",
     "text": [
      "[1, 2, 3]\n"
     ]
    }
   ],
   "source": [
    "class Q:\n",
    "    def __init__(s):\n",
    "        s.s1=[]\n",
    "        s.s2=[]\n",
    "    def en_q(s,val):\n",
    "        s.s1.append(val)\n",
    "    def de_q(s):\n",
    "        if not s.s2:\n",
    "            while s.s1:\n",
    "                s.s2.append(s.s1.pop())\n",
    "        return s.s2.pop()\n",
    "    def peek(s):\n",
    "        if not s.s2:\n",
    "            while s.s1:\n",
    "                s.s2.append(s.s1.pop())\n",
    "        return s.s2[-1]\n",
    "    def is_empty(s):\n",
    "        return not s.s1 and not s.s2\n",
    "    def dis(s):\n",
    "        print(s.s1)\n",
    "a=Q()\n",
    "a.en_q(1)\n",
    "a.en_q(2)\n",
    "a.en_q(3)\n",
    "a.dis()\n",
    "\n",
    "\n"
   ]
  },
  {
   "cell_type": "code",
   "execution_count": 19,
   "id": "3e93760c",
   "metadata": {},
   "outputs": [
    {
     "name": "stdout",
     "output_type": "stream",
     "text": [
      "72\n",
      "56\n",
      "True\n",
      "deque([])\n"
     ]
    }
   ],
   "source": [
    "from collections import deque\n",
    "stack=deque()\n",
    "stack.append(56)\n",
    "stack.append(72)\n",
    "\n",
    "print(stack.pop())\n",
    "print(stack.pop())\n",
    "print(not stack)\n",
    "print(stack)"
   ]
  },
  {
   "cell_type": "code",
   "execution_count": null,
   "id": "d2fa8542",
   "metadata": {},
   "outputs": [],
   "source": []
  },
  {
   "cell_type": "code",
   "execution_count": 22,
   "id": "701f9466",
   "metadata": {},
   "outputs": [
    {
     "name": "stdout",
     "output_type": "stream",
     "text": [
      "deque([12, 10, 8])\n"
     ]
    }
   ],
   "source": [
    "from collections import deque\n",
    "dq=deque()\n",
    "dq.append(10)\n",
    "dq.appendleft(12)\n",
    "dq.append(8)\n",
    "dq.appendleft(5)\n",
    "dq.popleft()\n",
    "print(dq)\n",
    "\n"
   ]
  },
  {
   "cell_type": "code",
   "execution_count": 11,
   "id": "cf643015",
   "metadata": {},
   "outputs": [
    {
     "name": "stdout",
     "output_type": "stream",
     "text": [
      "deque(['vishal', 'muthu'])\n",
      "vishal\n",
      "deque(['muthu'])\n"
     ]
    }
   ],
   "source": [
    "from collections import deque\n",
    "\n",
    "class BankQueue:\n",
    "    def __init__(self):\n",
    "        self.queue = deque()\n",
    "\n",
    "    def add(self, name):\n",
    "        self.queue.append(name)\n",
    "\n",
    "    def pop(self):\n",
    "        if not self.is_empty():\n",
    "            return self.queue.popleft()\n",
    "        return \"No customers in queue.\"\n",
    "\n",
    "    def is_empty(self):\n",
    "        return len(self.queue) == 0\n",
    "    def dis(self):\n",
    "        print(self.queue)\n",
    "bq = BankQueue()\n",
    "bq.add(\"vishal\")\n",
    "bq.add(\"muthu\")\n",
    "bq.dis()\n",
    "\n",
    "print(bq.pop())  \n",
    "bq.dis()\n",
    "\n"
   ]
  },
  {
   "cell_type": "code",
   "execution_count": 9,
   "id": "c6a46736",
   "metadata": {},
   "outputs": [
    {
     "name": "stdout",
     "output_type": "stream",
     "text": [
      "16\n"
     ]
    }
   ],
   "source": [
    "def evaluate_postfix(s) -> int:\n",
    "    stack = []\n",
    "    tokens = s.split()\n",
    "\n",
    "    for token in tokens:\n",
    "        if token.isdigit():\n",
    "            stack.append(int(token))\n",
    "        else:\n",
    "            b = stack.pop()\n",
    "            a = stack.pop()\n",
    "            if token == '+':\n",
    "                stack.append(a + b)\n",
    "            elif token == '-':\n",
    "                stack.append(a - b)\n",
    "            elif token == '*':\n",
    "                stack.append(a * b)\n",
    "            elif token == '/':\n",
    "                stack.append(int(a / b))  \n",
    "    return stack[0]\n",
    "print(evaluate_postfix(\"5 3 + 2 *\"))  \n"
   ]
  },
  {
   "cell_type": "code",
   "execution_count": 28,
   "id": "34cac974",
   "metadata": {},
   "outputs": [
    {
     "name": "stdout",
     "output_type": "stream",
     "text": [
      "deque(['muthu', 'vishal', 'razi'])\n",
      "deque(['vishal', 'razi'])\n"
     ]
    }
   ],
   "source": [
    "from collections import deque\n",
    "\n",
    "class EmergencyRoom:\n",
    "    def __init__(self):\n",
    "        self.patients = deque()\n",
    "\n",
    "    def add(self, name, critical=False):\n",
    "        if critical:\n",
    "            self.patients.appendleft(name)\n",
    "        else:\n",
    "            self.patients.append(name)\n",
    "\n",
    "    def pop(self):\n",
    "        if self.patients:\n",
    "            return self.patients.popleft()\n",
    "        return \"No patients in queue.\"\n",
    "    def is_empty(self):\n",
    "        return len(self.patients)==0\n",
    "    def dis(self):\n",
    "        print(self.patients)\n",
    "er = EmergencyRoom()\n",
    "er.add(\"vishal\",critical=False)  \n",
    "er.add(\"muthu\", critical=True)\n",
    "er.add(\"razi\",critical=False)\n",
    "er.dis()\n",
    "er.pop()\n",
    "er.dis()\n"
   ]
  }
 ],
 "metadata": {
  "kernelspec": {
   "display_name": "Python 3",
   "language": "python",
   "name": "python3"
  },
  "language_info": {
   "codemirror_mode": {
    "name": "ipython",
    "version": 3
   },
   "file_extension": ".py",
   "mimetype": "text/x-python",
   "name": "python",
   "nbconvert_exporter": "python",
   "pygments_lexer": "ipython3",
   "version": "3.11.9"
  }
 },
 "nbformat": 4,
 "nbformat_minor": 5
}
