{
 "cells": [
  {
   "cell_type": "code",
   "execution_count": null,
   "id": "66ed0320",
   "metadata": {},
   "outputs": [],
   "source": [
    "#day 1\n",
    "print(\"i00\")"
   ]
  },
  {
   "cell_type": "code",
   "execution_count": null,
   "id": "6b18ffe1",
   "metadata": {},
   "outputs": [],
   "source": [
    "print(\"bye\")"
   ]
  },
  {
   "cell_type": "code",
   "execution_count": null,
   "id": "680335d8",
   "metadata": {},
   "outputs": [],
   "source": [
    "print(\"vishal\")"
   ]
  },
  {
   "cell_type": "code",
   "execution_count": null,
   "id": "a4d9f18a",
   "metadata": {},
   "outputs": [],
   "source": [
    "a=str(2.333)\n",
    "print(a)"
   ]
  },
  {
   "cell_type": "code",
   "execution_count": null,
   "id": "83c245f9",
   "metadata": {},
   "outputs": [],
   "source": [
    "a=int(input(\"enter num\"))\n",
    "b=float(input(\"enter float\"))\n",
    "c=str(input(\"enter string\"))"
   ]
  },
  {
   "cell_type": "code",
   "execution_count": null,
   "id": "3ab1b719",
   "metadata": {},
   "outputs": [],
   "source": [
    "a = [\"shoe\", \"shirt\", \"ring\", \"watch\"]\n",
    "c=0\n",
    "for i in range(len(a)):\n",
    "    if \"ring\" == a[i]:\n",
    "        c=1\n",
    "if c==1:\n",
    "    print(\"yes\")\n",
    "else:\n",
    "    print(\"no\")    "
   ]
  },
  {
   "cell_type": "code",
   "execution_count": null,
   "id": "d722cb7e",
   "metadata": {},
   "outputs": [],
   "source": [
    "bb=int(input(\"bank balance:\"))\n",
    "wa=int(input(\"enter withdrawn amount:\"))\n",
    "pin=1234\n",
    "a=0\n",
    "while(a<3):\n",
    "    pin1=int(input(\"enter the pin:\"))\n",
    "    if(pin==pin1):\n",
    "        print(\"withdrawn successfully done\")\n",
    "        print(f\"the bank balance is {bb-wa}\")\n",
    "        break\n",
    "    else:\n",
    "        print(f\"you have{3-a} chance\")  \n",
    "        a+=1   \n",
    "else:\n",
    "    print(\"try again later\")         "
   ]
  },
  {
   "cell_type": "code",
   "execution_count": null,
   "id": "e8335c61",
   "metadata": {},
   "outputs": [],
   "source": [
    "#break statement\n",
    "while(\"ttt\"):\n",
    "    fb=input(\"enter feedback:\")\n",
    "    if(fb==\"stop\"):\n",
    "        print(\"thanks for the feedback\")\n",
    "        break\n",
    "    \n",
    "\n",
    ":\n",
    "\n",
    "\n",
    "\n"
   ]
  }
 ],
 "metadata": {
  "language_info": {
   "name": "python"
  }
 },
 "nbformat": 4,
 "nbformat_minor": 5
}
