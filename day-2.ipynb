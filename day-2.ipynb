{
 "cells": [
  {
   "cell_type": "code",
   "execution_count": null,
   "id": "aeb2696e",
   "metadata": {},
   "outputs": [],
   "source": [
    "#day 2\n",
    "\n",
    "#function - def keyword \n",
    "def my_function(a,b):#parameter\n",
    "   print(\"hello\")\n",
    "   return a+b\n",
    "my_function(10,12) #argument  "
   ]
  },
  {
   "cell_type": "code",
   "execution_count": null,
   "id": "656f446a",
   "metadata": {},
   "outputs": [],
   "source": [
    "def my_fun(ch1,ch2,ch3):\n",
    "    print(f\"the child name is {ch2}\")\n",
    "my_fun(ch1=\"hhhteyer\",ch2=\"rrfgv\",ch3=\"sdfgvgf\")    "
   ]
  },
  {
   "cell_type": "code",
   "execution_count": null,
   "id": "f80bfbda",
   "metadata": {},
   "outputs": [],
   "source": [
    "def my_fun(*ch):\n",
    "    print(f\"the child name is {ch[2]}\")\n",
    "my_fun(\"fffrq\",\"rsdfgv\",\"sdagf\")    "
   ]
  }
 ],
 "metadata": {
  "language_info": {
   "name": "python"
  }
 },
 "nbformat": 4,
 "nbformat_minor": 5
}
