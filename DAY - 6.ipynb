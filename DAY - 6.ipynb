{
 "cells": [
  {
   "cell_type": "code",
   "execution_count": null,
   "id": "b61567a2",
   "metadata": {},
   "outputs": [],
   "source": [
    "#file handling \n",
    "#file are named locations on the disk to st\n",
    "#operations - open(),read(),write(),append(),\n",
    "#1 open the file location \n",
    "#2 read /write operation\n",
    "#3 close the file\n",
    "#the file can be a text file ,binary file ,csv file\n",
    "#syntax for open file \n",
    "#file =open (file path,mode)\n",
    "#r -read the file\n",
    "#w -write the content in the file\n",
    "#a -append the content \n",
    "#r+ - to read and write the file.the previous not deleted\n",
    "# w+ - to write and read the file.it will overwrite the existing file\n",
    "# a+ -to append and read .it won't overwrite\n",
    "#reading from a file\n",
    "#1.read -entire file\n",
    "# 2.readline -one line\n",
    "# 3.readlines - it will read line by line"
   ]
  },
  {
   "cell_type": "code",
   "execution_count": null,
   "id": "582a900e",
   "metadata": {},
   "outputs": [],
   "source": [
    "file = open (\"demo.txt\",'r')\n",
    "data=file.readlines()\n",
    "print(data)"
   ]
  },
  {
   "cell_type": "code",
   "execution_count": null,
   "id": "d02958da",
   "metadata": {},
   "outputs": [],
   "source": [
    "file = open (\"demo.txt\",'r')\n",
    "data=file.readline(6)\n",
    "print(data)"
   ]
  },
  {
   "cell_type": "code",
   "execution_count": null,
   "id": "2ca4318a",
   "metadata": {},
   "outputs": [],
   "source": [
    "#write mode\n",
    "file = open (\"demo.txt\",'w')\n",
    "con=[\"yhdwhdha\\n\",\"jgosooeeg\\n\"]\n",
    "file.writelines(con)\n",
    "file.close()\n",
    "file = open (\"demo.txt\",'r')\n",
    "data=file.read()\n",
    "print(data)\n",
    "file.close()"
   ]
  },
  {
   "cell_type": "code",
   "execution_count": null,
   "id": "8a60b3e4",
   "metadata": {},
   "outputs": [],
   "source": [
    "#append\n",
    "file = open (\"demo.txt\",'a')\n",
    "file.write(\"\\n\")\n",
    "file.write(\"saffgafa\\n\")\n",
    "file.write(\"saffgddgiuyuov\\n\")\n",
    "file.close()\n",
    "file = open (\"demo.txt\",'r')\n",
    "data=file.read()\n",
    "print(data)\n",
    "file.close()"
   ]
  },
  {
   "cell_type": "code",
   "execution_count": null,
   "id": "189e8cbc",
   "metadata": {},
   "outputs": [],
   "source": [
    "file = open (\"demo.txt\",'r+')\n",
    "con=file.read()\n",
    "print(con)\n",
    "file.write(\"python is great\")\n",
    "file = open (\"demo.txt\",'r')\n",
    "con=file.read()\n",
    "print(con)\n",
    "file.close()"
   ]
  },
  {
   "cell_type": "code",
   "execution_count": null,
   "id": "5930f0ed",
   "metadata": {},
   "outputs": [],
   "source": [
    "\n",
    "file = open (\"demo.txt\",'a+')\n",
    "file.write(\"bye bye\")\n",
    "print(file.read())"
   ]
  },
  {
   "cell_type": "code",
   "execution_count": null,
   "id": "d109b26a",
   "metadata": {},
   "outputs": [],
   "source": [
    "import pandas as pd\n",
    "file=pd.read_excel(\"excel.xlsx\")\n",
    "file"
   ]
  },
  {
   "cell_type": "code",
   "execution_count": null,
   "id": "b9d3d930",
   "metadata": {},
   "outputs": [],
   "source": [
    "pip install pandas"
   ]
  }
 ],
 "metadata": {
  "language_info": {
   "name": "python"
  }
 },
 "nbformat": 4,
 "nbformat_minor": 5
}
