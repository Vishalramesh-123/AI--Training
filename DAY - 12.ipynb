{
 "cells": [
  {
   "cell_type": "code",
   "execution_count": 1,
   "id": "43bcf2c2",
   "metadata": {},
   "outputs": [
    {
     "name": "stdout",
     "output_type": "stream",
     "text": [
      "5\n",
      "1\n",
      "2\n",
      "3\n"
     ]
    }
   ],
   "source": [
    "import numpy as np\n",
    "scalar=5\n",
    "vector=np.array([1,2,3,4,5])\n",
    "matrix=np.matrix([[1,2,2],[3,2,1],[1,2,3]])\n",
    "print(scalar)\n",
    "print(vector.ndim)\n",
    "print(matrix.ndim)\n",
    "print(np.linalg.matrix_rank(matrix))\n",
    "# tensor- 3 or more dimensional value eg: [[[1,2],[2,3]],[[1,2],[2,3]]]"
   ]
  },
  {
   "cell_type": "code",
   "execution_count": 2,
   "id": "1f4e1051",
   "metadata": {},
   "outputs": [
    {
     "name": "stdout",
     "output_type": "stream",
     "text": [
      "1\n",
      "2\n",
      "[1 2 3]\n",
      "[[1]\n",
      " [2]\n",
      " [3]]\n"
     ]
    }
   ],
   "source": [
    "row=np.array([1,2,3])\n",
    "col=np.matrix([[1],[2],[3]])\n",
    "print(row.ndim)\n",
    "print(col.ndim)\n",
    "print(row)\n",
    "print(col)"
   ]
  },
  {
   "cell_type": "code",
   "execution_count": 6,
   "id": "a26abfe1",
   "metadata": {},
   "outputs": [
    {
     "name": "stdout",
     "output_type": "stream",
     "text": [
      "[0 0]\n"
     ]
    },
    {
     "name": "stderr",
     "output_type": "stream",
     "text": [
      "C:\\Users\\thama\\AppData\\Local\\Temp\\ipykernel_13124\\2393737085.py:3: DeprecationWarning: Arrays of 2-dimensional vectors are deprecated. Use arrays of 3-dimensional vectors instead. (deprecated in NumPy 2.0)\n",
      "  result = np.cross(A, B)\n"
     ]
    }
   ],
   "source": [
    "A = np.array([[1, 2], [3, 4]])\n",
    "B = np.array([[1, 2], [3, 4]])\n",
    "result = np.cross(A, B)\n",
    "print(result)"
   ]
  },
  {
   "cell_type": "code",
   "execution_count": 7,
   "id": "83da29b7",
   "metadata": {},
   "outputs": [
    {
     "name": "stdout",
     "output_type": "stream",
     "text": [
      "[[ -3   6  -3]\n",
      " [ 24  12 -46]]\n"
     ]
    }
   ],
   "source": [
    "\n",
    "A = np.array([[1, 2,3], [7,9,6]])\n",
    "B = np.array([[4,5,6], [9,5,6]])\n",
    "result = np.cross(A, B)\n",
    "print(result)"
   ]
  },
  {
   "cell_type": "code",
   "execution_count": 8,
   "id": "12f3ab31",
   "metadata": {},
   "outputs": [
    {
     "name": "stdout",
     "output_type": "stream",
     "text": [
      "32\n"
     ]
    }
   ],
   "source": [
    "a=[1,2,3]\n",
    "b=[4,5,6]\n",
    "c=0\n",
    "for i in range(len(a)):\n",
    "    c+=(a[i]*b[i])  \n",
    "print(c)    "
   ]
  },
  {
   "cell_type": "code",
   "execution_count": 9,
   "id": "8a1a3fbb",
   "metadata": {},
   "outputs": [
    {
     "name": "stdout",
     "output_type": "stream",
     "text": [
      "transpose of a matrix is:\n",
      "[1, 4]\n",
      "[2, 5]\n",
      "[3, 6]\n"
     ]
    }
   ],
   "source": [
    "a=[[1, 2, 3],[4, 5, 6]]\n",
    "b=[]\n",
    "for i in range(len(a[0])):\n",
    "    c=[]\n",
    "    for j in range(len(a)):\n",
    "        c.append(a[j][i])\n",
    "    b.append(c)\n",
    "print(\"transpose of a matrix is:\")    \n",
    "\n",
    "for d in b:\n",
    "    print(d)"
   ]
  },
  {
   "cell_type": "code",
   "execution_count": 5,
   "id": "14c0c4e7",
   "metadata": {},
   "outputs": [
    {
     "name": "stdout",
     "output_type": "stream",
     "text": [
      "30\n"
     ]
    }
   ],
   "source": [
    "A = np.array([1, 2,3, 4])\n",
    "B = np.array([1, 2,3, 4])\n",
    "result = np.dot(A, B)\n",
    "print(result)"
   ]
  },
  {
   "cell_type": "code",
   "execution_count": 3,
   "id": "b6d50270",
   "metadata": {},
   "outputs": [
    {
     "name": "stdout",
     "output_type": "stream",
     "text": [
      "[[ 7 10]\n",
      " [15 22]]\n"
     ]
    }
   ],
   "source": [
    "A = np.array([[1, 2], [3, 4]])\n",
    "B = np.array([[1, 2], [3, 4]])\n",
    "result = np.dot(A, B)\n",
    "print(result)"
   ]
  },
  {
   "cell_type": "code",
   "execution_count": 4,
   "id": "15f40010",
   "metadata": {},
   "outputs": [
    {
     "name": "stdout",
     "output_type": "stream",
     "text": [
      "[[1 3]\n",
      " [2 4]]\n"
     ]
    }
   ],
   "source": [
    "#transpose of a matrix\n",
    "v1=np.array([[1,2],[3,4]])\n",
    "print(v1.T)"
   ]
  }
 ],
 "metadata": {
  "kernelspec": {
   "display_name": "Python 3",
   "language": "python",
   "name": "python3"
  },
  "language_info": {
   "codemirror_mode": {
    "name": "ipython",
    "version": 3
   },
   "file_extension": ".py",
   "mimetype": "text/x-python",
   "name": "python",
   "nbconvert_exporter": "python",
   "pygments_lexer": "ipython3",
   "version": "3.12.6"
  }
 },
 "nbformat": 4,
 "nbformat_minor": 5
}
