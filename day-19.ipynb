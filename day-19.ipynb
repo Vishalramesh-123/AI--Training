{
 "cells": [
  {
   "cell_type": "code",
   "execution_count": null,
   "id": "758691ff",
   "metadata": {},
   "outputs": [],
   "source": [
    "#hashing - convert the data into a fixed value using hash function\n",
    "#hash()\n",
    "print(hash(\"godson\"))\n",
    "print (hash(45))\n",
    "print(hash(False))\n",
    "#why we use hashing - o(n^2) o(n)\n",
    "#hash maps, hash sets\n"
   ]
  },
  {
   "cell_type": "code",
   "execution_count": null,
   "id": "dcd8ba00",
   "metadata": {},
   "outputs": [],
   "source": []
  },
  {
   "cell_type": "code",
   "execution_count": null,
   "id": "c0a349a8",
   "metadata": {},
   "outputs": [],
   "source": [
    "list=[\"cheri\",\"pinky\",\"candy\"]\n",
    "for i in list:\n",
    "    print(hash(i))"
   ]
  },
  {
   "cell_type": "code",
   "execution_count": 9,
   "id": "968aabd4",
   "metadata": {},
   "outputs": [
    {
     "name": "stdout",
     "output_type": "stream",
     "text": [
      "jjddkd kofjo\n"
     ]
    }
   ],
   "source": [
    "\n",
    "a=\"jjddkd kofjo\"\n",
    "a.split()\n",
    "print(a)"
   ]
  },
  {
   "cell_type": "code",
   "execution_count": 14,
   "id": "2a4735a5",
   "metadata": {},
   "outputs": [
    {
     "name": "stdout",
     "output_type": "stream",
     "text": [
      "{'g': 2, 'o': 3, 'd': 1, ' ': 1, 'm': 1, 'r': 1, 'n': 2, 'i': 1}\n"
     ]
    }
   ],
   "source": [
    "a=\"good morning\"\n",
    "b={}\n",
    "for i in a:\n",
    "    if i not in b:\n",
    "        b[i]=1\n",
    "    else:\n",
    "        b[i]+=1\n",
    "print(b)        \n"
   ]
  },
  {
   "cell_type": "code",
   "execution_count": 19,
   "id": "34bebdf5",
   "metadata": {},
   "outputs": [
    {
     "name": "stdout",
     "output_type": "stream",
     "text": [
      "Counter({'o': 3, 'g': 2, 'n': 2, 'd': 1, ' ': 1, 'm': 1, 'r': 1, 'i': 1})\n"
     ]
    }
   ],
   "source": [
    "from collections import Counter\n",
    "a=\"good morning\"\n",
    "print(Counter(a))\n"
   ]
  },
  {
   "cell_type": "code",
   "execution_count": 15,
   "id": "c4115237",
   "metadata": {},
   "outputs": [],
   "source": [
    "#hash set\n",
    "#hash map\n",
    "#counter,dict,defaltdict"
   ]
  },
  {
   "cell_type": "code",
   "execution_count": null,
   "id": "6cc55caf",
   "metadata": {},
   "outputs": [
    {
     "name": "stdout",
     "output_type": "stream",
     "text": [
      "1\n"
     ]
    }
   ],
   "source": [
    "person={\"name\":\"avani\",\"age\":40}\n",
    "print(hash(\"name\"))\n"
   ]
  },
  {
   "cell_type": "code",
   "execution_count": null,
   "id": "768bc9e3",
   "metadata": {},
   "outputs": [],
   "source": [
    "#this hash value will help to store and can find it value\n",
    "#hashable -"
   ]
  },
  {
   "cell_type": "code",
   "execution_count": 7,
   "id": "1d458408",
   "metadata": {},
   "outputs": [
    {
     "name": "stdout",
     "output_type": "stream",
     "text": [
      "riswan\n"
     ]
    }
   ],
   "source": [
    "class student():\n",
    "    def __init__(s,roll):\n",
    "        s.roll=roll\n",
    "    def __hash__(s):\n",
    "        return hash(s.roll)    \n",
    "    def __eq__(s,other):\n",
    "        return s.roll==other.roll\n",
    "s1=student(101)\n",
    "s2=student(101)\n",
    "d={}\n",
    "d[s1]=\"riswan\"\n",
    "print(d[s2])    \n"
   ]
  },
  {
   "cell_type": "code",
   "execution_count": null,
   "id": "ff23ae9a",
   "metadata": {},
   "outputs": [
    {
     "name": "stdout",
     "output_type": "stream",
     "text": [
      "Aa\n",
      "Aa\n"
     ]
    }
   ],
   "source": [
    "#hash collision - two different object may return the same hash \n",
    "print(hash(\"Aa\"))\n",
    "print(hash(\"Aa\"))"
   ]
  },
  {
   "cell_type": "code",
   "execution_count": 15,
   "id": "626241bf",
   "metadata": {},
   "outputs": [
    {
     "name": "stdout",
     "output_type": "stream",
     "text": [
      "['vishal', 'razi', 'godson', 'muthu']\n"
     ]
    }
   ],
   "source": [
    "a=[\"vishal\",\"razi\",\"vishal\",\"godson\",\"muthu\",\"muthu\"]\n",
    "c=[]\n",
    "for i in range(len(a)):\n",
    "    if a[i] not in c:\n",
    "        c.append(a[i])\n",
    "print(c)        \n"
   ]
  },
  {
   "cell_type": "code",
   "execution_count": 26,
   "id": "395d1539",
   "metadata": {},
   "outputs": [
    {
     "name": "stdout",
     "output_type": "stream",
     "text": [
      "['the', 'sat', 'on', 'the']\n"
     ]
    }
   ],
   "source": [
    "a=\"the cat sat on the mat\"\n",
    "b=\"the dog sat on the fog\"\n",
    "aa=a.split()\n",
    "bb=b.split()\n",
    "c=[]\n",
    "for i in aa:\n",
    "    if i in bb:\n",
    "        c.append(i)\n",
    "print(c)        \n",
    "\n"
   ]
  },
  {
   "cell_type": "code",
   "execution_count": 29,
   "id": "09063f0b",
   "metadata": {},
   "outputs": [
    {
     "name": "stdout",
     "output_type": "stream",
     "text": [
      "['the', 'on', 'sat']\n"
     ]
    }
   ],
   "source": [
    "a=\"the cat sat on the mat\"\n",
    "b=\"the dog sat on the fog\"\n",
    "r=list(set(a.split())&set(b.split()))\n",
    "print(r)\n"
   ]
  },
  {
   "cell_type": "code",
   "execution_count": 4,
   "id": "d08ac0ca",
   "metadata": {},
   "outputs": [
    {
     "name": "stdout",
     "output_type": "stream",
     "text": [
      "[['a1', ['chennai', 'mumbai']], ['b1', ['kozhikode']]]\n"
     ]
    }
   ],
   "source": [
    "def grouping(pairs):\n",
    "    list1=[]\n",
    "    for code ,location in pairs:\n",
    "        found=False\n",
    "        for group in list1:\n",
    "            if(group[0]==code):\n",
    "                group[1].append(location)\n",
    "                found=True\n",
    "        if not found:\n",
    "            list1.append([code,[location]])  \n",
    "    return list1              \n",
    "\n",
    "data=[(\"a1\",\"chennai\"),(\"b1\",\"kozhikode\"),(\"a1\",\"mumbai\")]\n",
    "print(grouping(data))"
   ]
  },
  {
   "cell_type": "code",
   "execution_count": 5,
   "id": "1d4993d4",
   "metadata": {},
   "outputs": [
    {
     "name": "stdout",
     "output_type": "stream",
     "text": [
      "[3, 2]\n"
     ]
    }
   ],
   "source": [
    "def f_d(n):\n",
    "    my_dict = {}\n",
    "    r = []\n",
    "    for i in n:\n",
    "        my_dict[i] = my_dict.get(i, 0) + 1\n",
    "    for i, count in my_dict.items():\n",
    "        if count == 2:\n",
    "            r.append(i)\n",
    "    return r\n",
    "\n",
    "nums = [4, 3, 2, 7, 8, 2, 3, 1]\n",
    "print(f_d(nums))\n"
   ]
  },
  {
   "cell_type": "code",
   "execution_count": 7,
   "id": "3465cf77",
   "metadata": {},
   "outputs": [
    {
     "name": "stdout",
     "output_type": "stream",
     "text": [
      "[4, 9]\n"
     ]
    }
   ],
   "source": [
    "a = [4, 9, 5]\n",
    "b = [9, 4, 9, 8, 4]\n",
    "c = []\n",
    "\n",
    "for i in a:\n",
    "    if i in b:\n",
    "        c.append(i)\n",
    "\n",
    "print(c)\n"
   ]
  },
  {
   "cell_type": "code",
   "execution_count": null,
   "id": "5124f717",
   "metadata": {},
   "outputs": [
    {
     "name": "stdout",
     "output_type": "stream",
     "text": [
      "2\n"
     ]
    }
   ],
   "source": [
    "nums = [0, 1, 0, 1, 1]\n",
    "s = 0\n",
    "count =0\n",
    "d = {0: 1}  \n",
    "for i in nums:\n",
    "    if i == 0:\n",
    "        s -= 1\n",
    "    else:\n",
    "        s += 1       \n",
    "    count += d.get(s, 0)\n",
    "    d[s] = d.get(s, 0)+1\n",
    "print(count)\n"
   ]
  },
  {
   "cell_type": "code",
   "execution_count": null,
   "id": "a1a84cf8",
   "metadata": {},
   "outputs": [
    {
     "name": "stdout",
     "output_type": "stream",
     "text": [
      "Item added to the box.\n",
      "{'bottle', 'pen', 'watch', 'mm'}\n"
     ]
    }
   ],
   "source": [
    "l_f = {\"watch\", \"pen\", \"bottle\"}\n",
    "a = input(\"Enter lost item: \")\n",
    "\n",
    "if a in l_f:\n",
    "    print(\"Yes! Found it!\")\n",
    "else:\n",
    "    l_f.add(a)\n",
    "    print(\"Item added to the box.\")\n",
    "\n"
   ]
  },
  {
   "cell_type": "code",
   "execution_count": null,
   "id": "162e964a",
   "metadata": {},
   "outputs": [
    {
     "name": "stdout",
     "output_type": "stream",
     "text": [
      "4465344596711031994\n",
      "Access OK\n"
     ]
    }
   ],
   "source": [
    "stored =4465344596711031994  \n",
    "user = input(\"Enter password: \")\n",
    "u=(hash(user))\n",
    "print(int(u))\n",
    "\n",
    "if u == stored:\n",
    "    print(\"Access OK\")\n",
    "else:\n",
    "    print(\"Wrong password\")\n"
   ]
  },
  {
   "cell_type": "code",
   "execution_count": 1,
   "id": "8f8c45c4",
   "metadata": {},
   "outputs": [
    {
     "name": "stdout",
     "output_type": "stream",
     "text": [
      "None\n"
     ]
    }
   ],
   "source": [
    "attendance = {\"vishal\": \"Present\", \"Razi\": \"Absent\"}\n",
    "name = input(\"Student name: \")\n",
    "print(attendance.get(name))\n"
   ]
  },
  {
   "cell_type": "code",
   "execution_count": 4,
   "id": "61c7f4e7",
   "metadata": {},
   "outputs": [
    {
     "name": "stdout",
     "output_type": "stream",
     "text": [
      "Same essay\n"
     ]
    }
   ],
   "source": [
    "a = \"essay 1\"\n",
    "b= \"essay 1\"\n",
    "aa=hash(a)\n",
    "bb=hash(b)\n",
    "\n",
    "if aa == bb:\n",
    "    print(\"Same essay\")\n",
    "else:\n",
    "    print(\"Different\")\n"
   ]
  },
  {
   "cell_type": "code",
   "execution_count": null,
   "id": "5fa60937",
   "metadata": {},
   "outputs": [
    {
     "name": "stdout",
     "output_type": "stream",
     "text": [
      "1\n",
      "Assign to Driver B\n"
     ]
    }
   ],
   "source": [
    "drivers = [\"driver-A\", \"driver-B\", \"driver-C\"]\n",
    "\n",
    "phone = input(\"Phone number: \")\n",
    "print(hash(phone) % 3)\n",
    "\n",
    "print(\"Assign to Driver\", drivers[hash(phone) % 3])\n"
   ]
  }
 ],
 "metadata": {
  "kernelspec": {
   "display_name": "Python 3",
   "language": "python",
   "name": "python3"
  },
  "language_info": {
   "codemirror_mode": {
    "name": "ipython",
    "version": 3
   },
   "file_extension": ".py",
   "mimetype": "text/x-python",
   "name": "python",
   "nbconvert_exporter": "python",
   "pygments_lexer": "ipython3",
   "version": "3.11.9"
  }
 },
 "nbformat": 4,
 "nbformat_minor": 5
}
