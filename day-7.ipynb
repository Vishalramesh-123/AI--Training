{
 "cells": [
  {
   "cell_type": "code",
   "execution_count": null,
   "id": "db408530",
   "metadata": {},
   "outputs": [],
   "source": [
    "#polymorphism\n",
    "class notifications:\n",
    "    def send(self):\n",
    "        pass\n",
    "    \n",
    "class Email(notifications):\n",
    "    def send(self):\n",
    "        print(\"Sending Email...\")\n",
    "\n",
    "class SMS(notifications):\n",
    "    def send(self):\n",
    "        print(\"Sending SMS...\")\n",
    "\n",
    "class Push(notifications):\n",
    "    def send(self):\n",
    "        print(\"Sending Push Notification...\")\n",
    "\n",
    "n1 = [Email(), SMS(), Push()]\n",
    "for n in n1:\n",
    "    n.send()\n"
   ]
  },
  {
   "cell_type": "code",
   "execution_count": null,
   "id": "756d87bb",
   "metadata": {},
   "outputs": [],
   "source": [
    "#io error -if the file can't be open\n",
    "# keyboardinterrupt error-when the unrequred key is passed by the user\n",
    "# value error - when bulit-in function y datareceives a wrong argument \n",
    "# EOF error- if end of file is hit with out reading an\n",
    "# import eror - if it is unable to found the module\n",
    "# \n",
    "# ## # exception handling"
   ]
  },
  {
   "cell_type": "code",
   "execution_count": null,
   "id": "ebfe9f04",
   "metadata": {},
   "outputs": [],
   "source": [
    "#try - try block let you test a block of code for error\n",
    "# except- the except block let you handle the error\n",
    "# else - block lets you execute code when there is no error\n",
    "# finnally - block lets you execute code regardless of the result of the try -and except blocks\n",
    "# \n",
    "# \n",
    "# #"
   ]
  },
  {
   "cell_type": "code",
   "execution_count": null,
   "id": "ba674aa1",
   "metadata": {},
   "outputs": [],
   "source": [
    "\n",
    "try:\n",
    "    a=int(input(\"enter a num\"))\n",
    "    b=a/0\n",
    "    print (b)\n",
    "except(ZeroDivisionError):\n",
    "    print(\"ZeroDivisionError\")\n",
    "except(ValueError):\n",
    "    print (\"enter integer value\")\n",
    "else:\n",
    "    print (\"it divide successfully\")    \n",
    "finally:\n",
    "    print (\"the code executed successfully\")    \n"
   ]
  },
  {
   "cell_type": "code",
   "execution_count": null,
   "id": "aac3b931",
   "metadata": {},
   "outputs": [],
   "source": [
    "\n",
    "try:\n",
    "    file=open(\"demo.txt\",\"r\")\n",
    "    a=file.read()\n",
    "    \n",
    "except(FileNotFoundError):\n",
    "    print(\"the file path not found\")\n",
    "else:\n",
    "    print (a)    \n",
    "finally:\n",
    "    print (\"the code executed successfully\")    \n"
   ]
  },
  {
   "cell_type": "code",
   "execution_count": null,
   "id": "f5081b7b",
   "metadata": {},
   "outputs": [],
   "source": [
    "try:\n",
    "    age=int(input(\"enter age\"))\n",
    "    \n",
    "except(ValueError):\n",
    "    print(\"enter your  age in integer\")       \n",
    "else:    \n",
    "    if (age>=18):\n",
    "        print(\"you are eligible to vote\")\n",
    "    else:\n",
    "        print (\"you arev not eligible to vote\")\n",
    "finally:\n",
    "    print (\"the code executed successfully\")        \n"
   ]
  },
  {
   "cell_type": "code",
   "execution_count": null,
   "id": "7c1a8ce9",
   "metadata": {},
   "outputs": [],
   "source": [
    "#A class is like a blueprint or template \n",
    "#collection of  objects is called class\n",
    "\n",
    "#An object is an instance of a class. \n",
    "# #It's a real entity with actual values\n",
    "\n",
    "\n"
   ]
  },
  {
   "cell_type": "code",
   "execution_count": null,
   "id": "88297f20",
   "metadata": {},
   "outputs": [],
   "source": [
    "class goatrip():\n",
    "    def __init__(self,name,butget):\n",
    "        self.name=name\n",
    "        self.butget=butget\n",
    "    def beach(self):\n",
    "        print(f\"{self.name} in beach.the butget is {self.butget}\")\n",
    "    def party(self):\n",
    "        print(f\"{self.name} in party.the butget is {self.butget}\")\n",
    "abi=goatrip(\"abinav\",5000)\n",
    "teb=goatrip(\"tebin joseph\",6000)\n",
    "abi.party()\n",
    "teb.beach()"
   ]
  }
 ],
 "metadata": {
  "language_info": {
   "name": "python"
  }
 },
 "nbformat": 4,
 "nbformat_minor": 5
}
