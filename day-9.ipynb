{
 "cells": [
  {
   "cell_type": "code",
   "execution_count": 4,
   "id": "011bedda",
   "metadata": {},
   "outputs": [
    {
     "name": "stdout",
     "output_type": "stream",
     "text": [
      "rrrr\n",
      "2020-10-04\n",
      "odject destroyed\n"
     ]
    },
    {
     "ename": "NameError",
     "evalue": "name 'p' is not defined",
     "output_type": "error",
     "traceback": [
      "\u001b[31m---------------------------------------------------------------------------\u001b[39m",
      "\u001b[31mNameError\u001b[39m                                 Traceback (most recent call last)",
      "\u001b[36mCell\u001b[39m\u001b[36m \u001b[39m\u001b[32mIn[4]\u001b[39m\u001b[32m, line 21\u001b[39m\n\u001b[32m     18\u001b[39m \u001b[38;5;28mprint\u001b[39m(d)\n\u001b[32m     19\u001b[39m \u001b[38;5;28;01mdel\u001b[39;00m p\n\u001b[32m---> \u001b[39m\u001b[32m21\u001b[39m \u001b[38;5;28mprint\u001b[39m(\u001b[43mp\u001b[49m)\n\u001b[32m     22\u001b[39m d=date(month=\u001b[32m10\u001b[39m,day=\u001b[32m4\u001b[39m,year=\u001b[32m2020\u001b[39m)  \n\u001b[32m     23\u001b[39m \u001b[38;5;28mprint\u001b[39m(d)\n",
      "\u001b[31mNameError\u001b[39m: name 'p' is not defined"
     ]
    }
   ],
   "source": [
    "#day-9\n",
    "# dunder method / special method /double underscore methods\n",
    "from datetime import date\n",
    "\n",
    "class preson():\n",
    "    def __init__(s,name):\n",
    "        s.name=name\n",
    "    def __str__(s):\n",
    "        return s.name\n",
    "    def __repr__(s):\n",
    "        return f\"preson({s.name})\"\n",
    "    def __del__(s):\n",
    "        print(\"odject destroyed\")\n",
    "            \n",
    "p=preson(\"rrrr\")\n",
    "print(p)\n",
    "d=date(month=10,day=4,year=2020)  \n",
    "print(d)\n",
    "del p\n",
    "\n",
    "print(p)\n",
    "d=date(month=10,day=4,year=2020)  \n",
    "print(d)\n",
    "      \n",
    "        "
   ]
  },
  {
   "cell_type": "code",
   "execution_count": null,
   "id": "43f842a0",
   "metadata": {},
   "outputs": [],
   "source": [
    "#day-9\n",
    "# dunder method / special method /double underscore methods\n",
    "from datetime import date\n",
    "\n",
    "class preson():\n",
    "    def __init__(s,name):\n",
    "        s.name=name\n",
    "    def __str__(s):\n",
    "        return s.name\n",
    "    def __repr__(s):\n",
    "        return f\"preson({s.name})\"\n",
    "    def __del__(s):\n",
    "        print(\"odject destroyed\")\n",
    "            \n",
    "p=preson(\"rrrr\")\n",
    "print(p)\n",
    "d=date(month=10,day=4,year=2020)  \n",
    "print(d)\n",
    "del p\n",
    "\n",
    "print(p)\n",
    "d=date(month=10,day=4,year=2020)  \n",
    "print(d)\n",
    "      \n",
    "      \n",
    "        "
   ]
  },
  {
   "cell_type": "code",
   "execution_count": null,
   "id": "e2aa41bb",
   "metadata": {},
   "outputs": [],
   "source": [
    "class person():\n",
    "    def __init__(self,x,y):\n",
    "        self.x=x\n",
    "        self.y=y\n",
    "    def __repr__(self):\n",
    "        return f\"{self.x},{self.y}\"\n",
    "    def __add__(self,other):\n",
    "        return person(self.x+ other.x,self.y + other.y)\n",
    "    def __repr__(self):\n",
    "        return f\"{self.x},{self.y}\"\n",
    "p1=person(2,9)\n",
    "p2=person(4,5)\n",
    "print(p1+p2)    \n",
    "        "
   ]
  },
  {
   "cell_type": "code",
   "execution_count": null,
   "id": "a9257cfa",
   "metadata": {},
   "outputs": [],
   "source": [
    "class person():\n",
    "    def __init__(self,x,y):\n",
    "        self.x=x\n",
    "        self.y=y\n",
    "    def __repr__(self):\n",
    "        return f\"{self.x},{self.y}\"\n",
    "    #def __eq__(self,other):#__it <#__gt__>#__ge__ >=#__le__<=\n",
    "        return person(self.x==other.x,self.y == other.y)\n",
    "    def __repr__(self):\n",
    "        return f\"{self.x},{self.y}\"\n",
    "p1=person(4,6)\n",
    "p2=person(4,6)\n",
    "print(p1==p2)    \n",
    "        "
   ]
  },
  {
   "cell_type": "code",
   "execution_count": null,
   "id": "26e1e3a4",
   "metadata": {},
   "outputs": [],
   "source": [
    "#__abs__\n",
    "#__contains__\n",
    "# __call__\n",
    "# __hash__\n",
    "# __get item__\n",
    "# \n",
    "# #"
   ]
  },
  {
   "cell_type": "code",
   "execution_count": null,
   "id": "ee1ece68",
   "metadata": {},
   "outputs": [],
   "source": [
    "class person:\n",
    "    def __init__(s,data):\n",
    "        s.data=data\n",
    "    def __len__(s):\n",
    "        return len(s.data)\n",
    "m=person([15,16,2])\n",
    "print(len(m))            "
   ]
  },
  {
   "cell_type": "code",
   "execution_count": null,
   "id": "6783a706",
   "metadata": {},
   "outputs": [],
   "source": [
    "class person:\n",
    "    def __init__(s,data):\n",
    "        s.data=data\n",
    "    def __len__(s):\n",
    "        return len(s.data)\n",
    "    def __contains__(s,item):\n",
    "        return item in s.data\n",
    "    def __getitem__(s,i):\n",
    "        return s.data[i]\n",
    "m=person([15,16,7])\n",
    "print(len(m))\n",
    "print(7 in m) \n",
    "print(m[1])           "
   ]
  },
  {
   "cell_type": "code",
   "execution_count": null,
   "id": "153db6fd",
   "metadata": {},
   "outputs": [],
   "source": [
    "\n",
    "#process- a program in execution\n",
    "#Thread- \n",
    "\n",
    "#thread module // used for low level threading \n",
    "# threading module // used for high level threading\n",
    "# \n",
    "# \n",
    "# #"
   ]
  },
  {
   "cell_type": "code",
   "execution_count": null,
   "id": "e4f3f10d",
   "metadata": {},
   "outputs": [],
   "source": [
    "from threading import Thread\n",
    "def my_func():\n",
    "    print(f\"the thread name is Thread 1\")\n",
    "def my_func2():\n",
    "    print(f\"the thread name is Thread 2\")    \n",
    "t1=Thread(target=my_func) \n",
    "t2=Thread(target=my_func2)\n",
    "t1.start() \n",
    "t1.join()  # Wait for t1 to finish before starting t2   \n",
    "t2.start()  "
   ]
  },
  {
   "cell_type": "code",
   "execution_count": null,
   "id": "329a630a",
   "metadata": {},
   "outputs": [],
   "source": [
    "#Run mulitple threads parallelly\n",
    "from threading import Thread\n",
    "def my_func(name):\n",
    "    print(f\"my name is {name}\")\n",
    "t1=Thread(target=my_func, args=(\"vishal\",)).start()\n",
    "t2=Thread(target=my_func, args=(\"muthu\",)).start()\n",
    "   \n"
   ]
  },
  {
   "cell_type": "code",
   "execution_count": null,
   "id": "8d4d80b2",
   "metadata": {},
   "outputs": [],
   "source": [
    "import threading,time  #time.sleep is used to pause the execution of the current thread for a specified number of seconds\n",
    "def download():\n",
    "    print(\"Downloading started\")\n",
    "    time.sleep(2)\n",
    "    print(\"Downloading completed\")\n",
    "\n",
    "t1 = threading.Thread(target=download).start()\n"
   ]
  },
  {
   "cell_type": "code",
   "execution_count": null,
   "id": "ba627395",
   "metadata": {},
   "outputs": [],
   "source": [
    "#print the thread namefrom threading import Thread\n",
    "from threading import Thread\n",
    "import threading\n",
    "def my_func():\n",
    "    print(\"Thread name is: \",threading.current_thread().name)\n",
    "threading.Thread(target=my_func).start()   \n",
    "\n",
    "\n",
    "\n"
   ]
  },
  {
   "cell_type": "code",
   "execution_count": null,
   "id": "70e6471b",
   "metadata": {},
   "outputs": [],
   "source": [
    "import threading\n",
    "mess=[]\n",
    "def say_hello(n):\n",
    "    mess.append(f\"i am from Thread {n}\")\n",
    "n=100\n",
    "threads=[]\n",
    "for i in range(1,n+1):\n",
    "    t=threading.Thread(target=say_hello, args=(i,))\n",
    "    t.start()\n",
    "    threads.append(t)\n",
    "for t in threads:\n",
    "    t.join()\n",
    "print(mess)        \n"
   ]
  },
  {
   "cell_type": "code",
   "execution_count": null,
   "id": "d4a06b17",
   "metadata": {},
   "outputs": [],
   "source": [
    "import threading\n",
    "\n",
    "def say_hello(n):\n",
    "    print(f\"i am from Thread {n}\")\n",
    "n=100\n",
    "for i in range(1,n+1):\n",
    "    t=threading.Thread(target=say_hello, args=(i,)).start()\n",
    "    "
   ]
  },
  {
   "cell_type": "code",
   "execution_count": null,
   "id": "53a4ef7f",
   "metadata": {},
   "outputs": [],
   "source": [
    "#lock method in threading\n",
    "#in lock we can preform the execution with a \n",
    "from threading import Thread,Lock\n",
    "l1=Lock()\n",
    "count=0\n",
    "def increase():\n",
    "    global count \n",
    "    for i in range (1000):\n",
    "        with l1:\n",
    "            count+=1\n",
    "threads=[]\n",
    "n=5\n",
    "for i in range(n):\n",
    "    t=Thread(target=increase)\n",
    "    t.start()\n",
    "    threads.append(t)\n",
    "for t in threads:\n",
    "    t.join() \n",
    "print(\"final\",count)           \n"
   ]
  }
 ],
 "metadata": {
  "kernelspec": {
   "display_name": "Python 3",
   "language": "python",
   "name": "python3"
  },
  "language_info": {
   "codemirror_mode": {
    "name": "ipython",
    "version": 3
   },
   "file_extension": ".py",
   "mimetype": "text/x-python",
   "name": "python",
   "nbconvert_exporter": "python",
   "pygments_lexer": "ipython3",
   "version": "3.11.9"
  }
 },
 "nbformat": 4,
 "nbformat_minor": 5
}
