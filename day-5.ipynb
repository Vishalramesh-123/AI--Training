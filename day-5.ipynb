{
 "cells": [
  {
   "cell_type": "code",
   "execution_count": null,
   "id": "b3be617b",
   "metadata": {},
   "outputs": [],
   "source": [
    "#day 5\n",
    "dict1={\"name\":\"vishal\",\"age\":18,\"dept\":\"ai&ds\"}\n",
    "print(dict1)"
   ]
  },
  {
   "cell_type": "code",
   "execution_count": null,
   "id": "c7591b57",
   "metadata": {},
   "outputs": [],
   "source": [
    "dict1=dict(name=\"vishal\",age=18,dept=\"ai&ds\")\n",
    "print(dict1)"
   ]
  },
  {
   "cell_type": "code",
   "execution_count": null,
   "id": "77ab2ee1",
   "metadata": {},
   "outputs": [],
   "source": [
    "dict1={\"name\":\"vishal\",\"age\":18,\"dept\":\"ai&ds\"}\n",
    "print(dict1.get(\"name\"))\n"
   ]
  },
  {
   "cell_type": "code",
   "execution_count": null,
   "id": "1b92414d",
   "metadata": {},
   "outputs": [],
   "source": [
    "dict1={\"name\":\"vishal\",\"age\":18,\"dept\":\"ai&ds\"}\n",
    "print(dict1.setdefault(\"email\",\"e24ai013\"))\n",
    "print(dict1)"
   ]
  },
  {
   "cell_type": "code",
   "execution_count": null,
   "id": "b0a6bcb8",
   "metadata": {},
   "outputs": [],
   "source": [
    "dict1 = {\"name\":\"vishal\",\"age\": 18,\"dept\":\"ai&ds\"}\n",
    "dict1[\"name\"] = \"vis\" \n",
    "print(dict1)"
   ]
  },
  {
   "cell_type": "code",
   "execution_count": null,
   "id": "af3c76c3",
   "metadata": {},
   "outputs": [],
   "source": [
    "dict1={\"name\":\"vishal\",\"age\":18,\"dept\":\"ai&ds\"}\n",
    "print(dict1.keys())\n",
    "print(dict1.values())\n",
    "print(dict1.items())"
   ]
  },
  {
   "cell_type": "code",
   "execution_count": null,
   "id": "975868db",
   "metadata": {},
   "outputs": [],
   "source": [
    "dict1={\"name\":\"vishal\",\"age\":18,\"dept\":\"ai&ds\"}\n",
    "del dict1[\"name\"]\n",
    "print(dict1)"
   ]
  },
  {
   "cell_type": "code",
   "execution_count": null,
   "id": "3e7d5a82",
   "metadata": {},
   "outputs": [],
   "source": [
    "dict1={\"name\":\"vishal\",\"age\":18,\"dept\":\"ai&ds\"}\n",
    "dict1.pop(\"name\")\n",
    "print(dict1)"
   ]
  },
  {
   "cell_type": "code",
   "execution_count": null,
   "id": "f0e9070b",
   "metadata": {},
   "outputs": [],
   "source": [
    "dict1={\"name\":\"vishal\",\"age\":18,\"dept\":\"ai&ds\"}\n",
    "dict1.pop(\"height\",\"none\")\n",
    "print(dict1)"
   ]
  },
  {
   "cell_type": "code",
   "execution_count": null,
   "id": "c02595ef",
   "metadata": {},
   "outputs": [],
   "source": [
    "text=\"apple banana apple apple banana  kiwi\"\n",
    "dict1={}\n",
    "for i in text.split():\n",
    "    dict1[i]=dict1.get(i,0)+1\n",
    "print(dict1)    "
   ]
  },
  {
   "cell_type": "code",
   "execution_count": null,
   "id": "cae53a56",
   "metadata": {},
   "outputs": [],
   "source": [
    "def char_frequency(s):\n",
    "    dic={}\n",
    "    for i in s:\n",
    "        s.split()\n",
    "        if (i!=\" \"):\n",
    "            dic[i] = dic.get(i, 0) + 1\n",
    "    return dic\n",
    "if __name__ == \"__main__\":\n",
    "    s = input()\n",
    "    result = char_frequency(s)\n",
    "    print(result)"
   ]
  }
 ],
 "metadata": {
  "language_info": {
   "name": "python"
  }
 },
 "nbformat": 4,
 "nbformat_minor": 5
}
