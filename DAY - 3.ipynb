{
 "cells": [
  {
   "cell_type": "code",
   "execution_count": null,
   "id": "185d0f43",
   "metadata": {},
   "outputs": [],
   "source": [
    "\n",
    "# Arbitrary keyword arguments - **kwargs\n",
    "# When we don't know how many we want to use, we use this\n",
    "\n",
    "def my_fun(**fruits):\n",
    "    print(f\"The fruit feature is {fruits['shape']}\")\n",
    "\n",
    "my_fun(fruitName=\"orange\", color=\"orange\", shape=\"circle\")"
   ]
  },
  {
   "cell_type": "code",
   "execution_count": null,
   "id": "c516a8be",
   "metadata": {},
   "outputs": [],
   "source": [
    "def pali(a):\n",
    "    r = \"\"\n",
    "    for i in a[::-1]:\n",
    "         r += i\n",
    "    if r==a:\n",
    "        return \"it's palindrome\"\n",
    "    else:\n",
    "        return \"it's not palindrome\" \n",
    "pali(\"malayala\")\n"
   ]
  },
  {
   "cell_type": "code",
   "execution_count": null,
   "id": "8b78a1c3",
   "metadata": {},
   "outputs": [],
   "source": [
    "def my_fun(cou=\"india\"):\n",
    "    print(f\"my country name is {cou}\")\n",
    "my_fun(\"usa\")    \n",
    "my_fun()"
   ]
  },
  {
   "cell_type": "code",
   "execution_count": null,
   "id": "e5676e55",
   "metadata": {},
   "outputs": [],
   "source": [
    "def my_ff(x):\n",
    "    return x*5\n",
    "my_ff(3)\n",
    "my_ff(33)"
   ]
  },
  {
   "cell_type": "code",
   "execution_count": null,
   "id": "29cc7166",
   "metadata": {},
   "outputs": [],
   "source": [
    "x=\"global\"\n",
    "def outer():\n",
    "    x=\"encloced\"\n",
    "    def inner():\n",
    "        x=\"local\"\n",
    "        print(x)\n",
    "    inner()\n",
    "outer()        "
   ]
  },
  {
   "cell_type": "code",
   "execution_count": null,
   "id": "92bd7fa0",
   "metadata": {},
   "outputs": [],
   "source": [
    "def pn(n):\n",
    "    if (n<=1):\n",
    "        return False\n",
    "    for i in range(2,n):\n",
    "        if(n%i==0):\n",
    "           return False\n",
    "    return True\n",
    "for i in range (1,20):\n",
    "    if pn(i):\n",
    "        print(i)     "
   ]
  },
  {
   "cell_type": "code",
   "execution_count": null,
   "id": "e3ccbef2",
   "metadata": {},
   "outputs": [],
   "source": [
    "#Find the factorial number\n",
    "def factorial(n):\n",
    "    result = 1\n",
    "    for i in range(1,n+1):\n",
    "        result*=i\n",
    "    return result\n",
    "factorial(4)"
   ]
  }
 ],
 "metadata": {
  "language_info": {
   "name": "python"
  }
 },
 "nbformat": 4,
 "nbformat_minor": 5
}
