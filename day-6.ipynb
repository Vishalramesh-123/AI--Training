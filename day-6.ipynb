{
 "cells": [
  {
   "cell_type": "code",
   "execution_count": null,
   "id": "76b0d725",
   "metadata": {},
   "outputs": [],
   "source": [
    "#day 6\n",
    "file = open(r\"C:\\Users\\visha\\OneDrive\\Desktop\\file handling\\demo.txt\")"
   ]
  },
  {
   "cell_type": "code",
   "execution_count": null,
   "id": "007f3324",
   "metadata": {},
   "outputs": [],
   "source": [
    "file = open (\"demo.txt\",'r')\n",
    "file.name\n",
    "file.mode\n",
    "file.close()"
   ]
  },
  {
   "cell_type": "code",
   "execution_count": null,
   "id": "34422f1b",
   "metadata": {},
   "outputs": [],
   "source": [
    "#file are named locations on the disk to st\n",
    "#operations - open(),read(),write(),append(),\n",
    "\n",
    "#1 open the file location \n",
    "#2 read /write operation\n",
    "#3 close the file\n",
    "\n",
    "#the file can be a text file ,binary file ,csv file\n",
    " \n",
    "#syntax for open file \n",
    "#file =open (file path,mode)\n",
    "\n",
    "#r -read the file\n",
    "#w -write the content in the file\n",
    "#a -append the content \n",
    "#r+ - to read and write the file.the previous not deleted\n",
    "# w+ - to write and read the file.it will overwrite the existing file\n",
    "# a+ -to append and read .it won't overwrite\n"
   ]
  },
  {
   "cell_type": "code",
   "execution_count": null,
   "id": "ffbe3496",
   "metadata": {},
   "outputs": [],
   "source": [
    "#reading from a file\n",
    "#1.read -entire file\n",
    "# 2.readline -one line\n",
    "# 3.readlines - it will read line by line\n",
    "# \n",
    "# \n",
    "# #"
   ]
  },
  {
   "cell_type": "code",
   "execution_count": null,
   "id": "c0b44ba8",
   "metadata": {},
   "outputs": [],
   "source": [
    "file = open (\"demo.txt\",'r')\n",
    "data=file.readlines()\n",
    "print(data)"
   ]
  },
  {
   "cell_type": "code",
   "execution_count": null,
   "id": "01ef7711",
   "metadata": {},
   "outputs": [],
   "source": [
    "file = open (\"demo.txt\",'r')\n",
    "data=file.readline(6)\n",
    "print(data)"
   ]
  },
  {
   "cell_type": "code",
   "execution_count": null,
   "id": "c7ad3071",
   "metadata": {},
   "outputs": [],
   "source": [
    "file = open (\"demo.txt\",'r')\n",
    "data=file.read()\n",
    "print(data)"
   ]
  },
  {
   "cell_type": "code",
   "execution_count": null,
   "id": "1316c608",
   "metadata": {},
   "outputs": [],
   "source": [
    "#write mode\n",
    "file = open (\"demo.txt\",'w')\n",
    "con=[\"yhdwhdha\\n\",\"jgosooeeg\\n\"]\n",
    "file.writelines(con)\n",
    "file.close()\n",
    "file = open (\"demo.txt\",'r')\n",
    "data=file.read()\n",
    "print(data)\n",
    "file.close()\n",
    "\n",
    "\n",
    "\n"
   ]
  },
  {
   "cell_type": "code",
   "execution_count": null,
   "id": "0f80b08f",
   "metadata": {},
   "outputs": [],
   "source": [
    "file = open (\"demo.txt\",'w')\n",
    "con=[\"Hi, I'm Vishal from Sankari RS.\\n\", \"I'm currently pursuing a B.Tech in Artificial Intelligence and Data Science \\n\", 'At Sri Shanmugha College of Engineering and Technology.\\n', \"I'm passionate about working with data and technology, \\n\", 'And my goal is to become a data analyst.']\n",
    "file.writelines(con)\n",
    "file.close()\n",
    "file = open (\"demo.txt\",'r')\n",
    "data=file.read()\n",
    "print(data)\n",
    "file.close()\n"
   ]
  },
  {
   "cell_type": "code",
   "execution_count": null,
   "id": "fe8dd5db",
   "metadata": {},
   "outputs": [],
   "source": [
    "#append\n",
    "file = open (\"demo.txt\",'a')\n",
    "file.write(\"\\n\")\n",
    "file.write(\"saffgafa\\n\")\n",
    "file.write(\"saffgddgiuyuov\\n\")\n",
    "\n",
    "file.close()\n",
    "file = open (\"demo.txt\",'r')\n",
    "data=file.read()\n",
    "print(data)\n",
    "file.close()\n"
   ]
  },
  {
   "cell_type": "code",
   "execution_count": null,
   "id": "61101c49",
   "metadata": {},
   "outputs": [],
   "source": [
    "file = open (\"demo.txt\",'r+')\n",
    "con=file.read()\n",
    "print(con)\n",
    "file.write(\"python is great\")\n",
    "file = open (\"demo.txt\",'r')\n",
    "con=file.read()\n",
    "print(con)\n",
    "file.close()\n",
    "\n"
   ]
  },
  {
   "cell_type": "code",
   "execution_count": null,
   "id": "69e472e7",
   "metadata": {},
   "outputs": [],
   "source": [
    "file = open (\"demo.txt\",'w+')\n",
    "file.write(\"kshbihgsuh fojooii jiodgjio\")\n",
    "print(file.read())"
   ]
  },
  {
   "cell_type": "code",
   "execution_count": null,
   "id": "504ea747",
   "metadata": {},
   "outputs": [],
   "source": [
    "\n",
    "file = open (\"demo.txt\",'a+')\n",
    "file.write(\"bye bye\")\n",
    "print(file.read())"
   ]
  },
  {
   "cell_type": "code",
   "execution_count": null,
   "id": "dfcb2c0c",
   "metadata": {},
   "outputs": [],
   "source": [
    "import pandas as pd\n",
    "file=pd.read_excel(\"excel.xlsx\")\n",
    "file\n",
    "\n"
   ]
  },
  {
   "cell_type": "code",
   "execution_count": null,
   "id": "42ed34c1",
   "metadata": {},
   "outputs": [],
   "source": [
    "pip install pandas"
   ]
  },
  {
   "cell_type": "code",
   "execution_count": null,
   "id": "9b955cfd",
   "metadata": {},
   "outputs": [],
   "source": [
    "import pandas as pd\n",
    "file=pd.read_csv(\"excell.csv\")\n",
    "file\n",
    "\n"
   ]
  }
 ],
 "metadata": {
  "language_info": {
   "name": "python"
  }
 },
 "nbformat": 4,
 "nbformat_minor": 5
}
