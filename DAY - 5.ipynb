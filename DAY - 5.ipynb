{
 "cells": [
  {
   "cell_type": "code",
   "execution_count": null,
   "id": "353e9525",
   "metadata": {},
   "outputs": [],
   "source": [
    "dict1=dict(name=\"thara\",age=18,dept=\"ai&ds\")\n",
    "print(dict1)"
   ]
  },
  {
   "cell_type": "code",
   "execution_count": null,
   "id": "750cfd05",
   "metadata": {},
   "outputs": [],
   "source": [
    "dict1={\"name\":\"thara\",\"age\":18,\"dept\":\"ai&ds\"}\n",
    "print(dict1.get(\"name\"))"
   ]
  },
  {
   "cell_type": "code",
   "execution_count": null,
   "id": "3d9036d7",
   "metadata": {},
   "outputs": [],
   "source": [
    "dict1={\"name\":\"thara\",\"age\":18,\"dept\":\"ai&ds\"}\n",
    "print(dict1.setdefault(\"email\",\"e24ai023\"))\n",
    "print(dict1)"
   ]
  },
  {
   "cell_type": "code",
   "execution_count": null,
   "id": "d2b7c583",
   "metadata": {},
   "outputs": [],
   "source": [
    "dict1 = {\"name\":\"thara\",\"age\": 18,\"dept\":\"ai&ds\"}\n",
    "dict1[\"name\"] = \"thama\" \n",
    "print(dict1)"
   ]
  },
  {
   "cell_type": "code",
   "execution_count": null,
   "id": "379f1442",
   "metadata": {},
   "outputs": [],
   "source": [
    "dict1={\"name\":\"thara\",\"age\":18,\"dept\":\"ai&ds\"}\n",
    "print(dict1.keys())\n",
    "print(dict1.values())\n",
    "print(dict1.items())"
   ]
  },
  {
   "cell_type": "code",
   "execution_count": null,
   "id": "3fe7ed46",
   "metadata": {},
   "outputs": [],
   "source": [
    "dict1={\"name\":\"thara\",\"age\":18,\"dept\":\"ai&ds\"}\n",
    "del dict1[\"name\"]\n",
    "print(dict1)"
   ]
  },
  {
   "cell_type": "code",
   "execution_count": null,
   "id": "2377df2e",
   "metadata": {},
   "outputs": [],
   "source": [
    "dict1={\"name\":\"thara\",\"age\":18,\"dept\":\"ai&ds\"}\n",
    "dict1.pop(\"name\")\n",
    "print(dict1)"
   ]
  },
  {
   "cell_type": "code",
   "execution_count": null,
   "id": "ac2cc5ae",
   "metadata": {},
   "outputs": [],
   "source": [
    "dict1={\"name\":\"thara\",\"age\":18,\"dept\":\"ai&ds\"}\n",
    "dict1.pop(\"height\",\"none\")\n",
    "print(dict1)"
   ]
  },
  {
   "cell_type": "code",
   "execution_count": null,
   "id": "bffadc39",
   "metadata": {},
   "outputs": [],
   "source": [
    "text=\"apple banana apple apple banana  kiwi\"\n",
    "dict1={}\n",
    "for i in text.split():\n",
    "    dict1[i]=dict1.get(i,0)+1\n",
    "print(dict1)    "
   ]
  },
  {
   "cell_type": "code",
   "execution_count": null,
   "id": "fe4726c6",
   "metadata": {},
   "outputs": [],
   "source": [
    "def char_frequency(s):\n",
    "    dic={}\n",
    "    for i in s:\n",
    "        s.split()\n",
    "        if (i!=\" \"):\n",
    "            dic[i] = dic.get(i, 0) + 1\n",
    "    return dic\n",
    "if __name__ == \"__main__\":\n",
    "    s = input()\n",
    "    result = char_frequency(s)\n",
    "    print(result)"
   ]
  }
 ],
 "metadata": {
  "language_info": {
   "name": "python"
  }
 },
 "nbformat": 4,
 "nbformat_minor": 5
}
