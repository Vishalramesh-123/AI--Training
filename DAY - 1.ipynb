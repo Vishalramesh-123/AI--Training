{
 "cells": [
  {
   "cell_type": "code",
   "execution_count": null,
   "id": "baded590",
   "metadata": {},
   "outputs": [],
   "source": [
    "print(\"i00\")"
   ]
  },
  {
   "cell_type": "code",
   "execution_count": null,
   "id": "39596d4c",
   "metadata": {},
   "outputs": [
    {
     "data": {
      "text/plain": [
       "5"
      ]
     },
     "execution_count": 1,
     "metadata": {},
     "output_type": "execute_result"
    }
   ],
   "source": [
    "def my_func(x):\n",
    "    return x\n",
    "my_func(5)"
   ]
  },
  {
   "cell_type": "code",
   "execution_count": 2,
   "id": "6067faeb",
   "metadata": {},
   "outputs": [
    {
     "name": "stdout",
     "output_type": "stream",
     "text": [
      "[1, 2, [3, 4]]\n"
     ]
    }
   ],
   "source": [
    "import copy \n",
    "original_list = [1,2,[3,4]]\n",
    "ref_copy = original_list\n",
    "print (ref_copy)"
   ]
  },
  {
   "cell_type": "code",
   "execution_count": 4,
   "id": "bb6eb912",
   "metadata": {},
   "outputs": [
    {
     "name": "stdout",
     "output_type": "stream",
     "text": [
      "[1, 2, [3, 4]]\n",
      "[1, 2, [3, 4]]\n",
      "[1, 2, [3, 4]]\n"
     ]
    }
   ],
   "source": [
    "import copy \n",
    "original_list = [1,2,[3,4]]\n",
    "ref_copy = original_list\n",
    "print (ref_copy)\n",
    "shallow_copy = original_list.copy()\n",
    "print(shallow_copy)\n",
    "deep_copy = copy.deepcopy(original_list)\n",
    "print(deep_copy)"
   ]
  },
  {
   "cell_type": "code",
   "execution_count": null,
   "id": "ae620f9d",
   "metadata": {},
   "outputs": [],
   "source": [
    "print(\"THARA\")"
   ]
  },
  {
   "cell_type": "code",
   "execution_count": null,
   "id": "f700a226",
   "metadata": {},
   "outputs": [],
   "source": [
    "a=str(2.333)\n",
    "print(a)"
   ]
  },
  {
   "cell_type": "code",
   "execution_count": null,
   "id": "13fa846c",
   "metadata": {},
   "outputs": [],
   "source": [
    "a=int(input(\"enter num\"))\n",
    "b=float(input(\"enter float\"))\n",
    "c=str(input(\"enter string\"))"
   ]
  },
  {
   "cell_type": "code",
   "execution_count": null,
   "id": "7d7f5bf4",
   "metadata": {},
   "outputs": [],
   "source": [
    "a = [\"shoe\", \"shirt\", \"ring\", \"watch\"]\n",
    "c=0\n",
    "for i in range(len(a)):\n",
    "    if \"ring\" == a[i]:\n",
    "        c=1\n",
    "if c==1:\n",
    "    print(\"yes\")\n",
    "else:\n",
    "    print(\"no\")    "
   ]
  },
  {
   "cell_type": "code",
   "execution_count": null,
   "id": "9fff8c9f",
   "metadata": {},
   "outputs": [],
   "source": [
    "bb=int(input(\"bank balance:\"))\n",
    "wa=int(input(\"enter withdrawn amount:\"))\n",
    "pin=1234\n",
    "a=0\n",
    "while(a<3):\n",
    "    pin1=int(input(\"enter the pin:\"))\n",
    "    if(pin==pin1):\n",
    "        print(\"withdrawn successfully done\")\n",
    "        print(f\"the bank balance is {bb-wa}\")\n",
    "        break\n",
    "    else:\n",
    "        print(f\"you have{3-a} chance\")  \n",
    "        a+=1   \n",
    "else:\n",
    "    print(\"try again later\")         "
   ]
  },
  {
   "cell_type": "code",
   "execution_count": null,
   "id": "e78ff01a",
   "metadata": {},
   "outputs": [],
   "source": [
    "#break statement\n",
    "while(\"ttt\"):\n",
    "    fb=input(\"enter feedback:\")\n",
    "    if(fb==\"stop\"):\n",
    "        print(\"thanks for the feedback\")\n",
    "        break"
   ]
  }
 ],
 "metadata": {
  "kernelspec": {
   "display_name": "Python 3",
   "language": "python",
   "name": "python3"
  },
  "language_info": {
   "codemirror_mode": {
    "name": "ipython",
    "version": 3
   },
   "file_extension": ".py",
   "mimetype": "text/x-python",
   "name": "python",
   "nbconvert_exporter": "python",
   "pygments_lexer": "ipython3",
   "version": "3.12.6"
  }
 },
 "nbformat": 4,
 "nbformat_minor": 5
}
