{
 "cells": [
  {
   "cell_type": "code",
   "execution_count": 3,
   "id": "bdc218a6",
   "metadata": {},
   "outputs": [
    {
     "name": "stdout",
     "output_type": "stream",
     "text": [
      "['chachu', 89, 'false']\n"
     ]
    }
   ],
   "source": [
    "#day -3\n",
    "# list \n",
    "\n",
    "#list is collection of data\n",
    "#list is ordered, mutable(can be modified)\n",
    " \n",
    "#positive indexing - it starts from 0\n",
    "#negative indexing  - it starts from -1 in the reverse order\n",
    "\n",
    "list1 = [\"chachu\",\"vichu\",24,89,67.00,\"true\",\"false\"]\n",
    "print(list1[::3])"
   ]
  },
  {
   "cell_type": "code",
   "execution_count": 4,
   "id": "7b72768c",
   "metadata": {},
   "outputs": [
    {
     "name": "stdout",
     "output_type": "stream",
     "text": [
      "['ABC', 'Alexa', 678.57, 'chachu', 'Aadil', 'vichu', 24, 89, 'Godson', 67.0, 'True', 'False', 'hi']\n",
      "['chachu', 'Aadil', 'vichu', 24, 89, 'Godson', 67.0, 'True', 'False', 'hi']\n"
     ]
    }
   ],
   "source": [
    "#list methods\n",
    "\n",
    "#append,extend,insert,pop,remove,copy,reverse,sort,clear\n",
    "#append-add the value at the end of the list\n",
    "#insert-you can add the element at any position\n",
    "#extend-it can ensure to combine the list\n",
    "#pop-remove the value based on index\n",
    "#remove-you can mention the element\n",
    "#copy-you can copy the list\n",
    "#reverse-it will reverse the list of elements\n",
    "#sort-it will arrange the elements by ascending or descending\n",
    "#clear-clear the data\n",
    "\n",
    "list1=[\"chachu\",\"vichu\",24,89,67.00,\"True\",\"False\"]\n",
    "list1.append(\"hi\")\n",
    "list1=[\"chachu\",\"vichu\",24,89,67.00,\"True\",\"False\"]\n",
    "list1.append(\"hi\")\n",
    "list1.insert(1,\"Aadil\")\n",
    "list1.insert(5,\"Godson\")\n",
    "list2=[\"ABC\",\"Alexa\",678.57]\n",
    "list2.extend(list1)\n",
    "print(list2)\n",
    "print(list1)"
   ]
  },
  {
   "cell_type": "code",
   "execution_count": 5,
   "id": "3ee34443",
   "metadata": {},
   "outputs": [
    {
     "name": "stdout",
     "output_type": "stream",
     "text": [
      "['chachu', 'Aadil', 'vichu', 24, 89, 'Godson', 67.0, 'True', 'False', 'hi']\n"
     ]
    }
   ],
   "source": [
    "list1=[\"chachu\",\"vichu\",24,89,67.00,\"True\",\"False\"]\n",
    "list1.append(\"hi\")\n",
    "list1.insert(1,\"Aadil\")\n",
    "list1.insert(5,\"Godson\")\n",
    "print(list1)"
   ]
  },
  {
   "cell_type": "code",
   "execution_count": 6,
   "id": "307f2540",
   "metadata": {},
   "outputs": [
    {
     "name": "stdout",
     "output_type": "stream",
     "text": [
      "['ABC', 'Alexa', 678.57, 'chachu', 'Aadil', 'vichu', 24, 89, 'Godson', 67.0, 'True', 'False', 'hi']\n"
     ]
    }
   ],
   "source": [
    "list1=[\"chachu\",\"vichu\",24,89,67.00,\"True\",\"False\"]\n",
    "list1.append(\"hi\")\n",
    "list1.insert(1,\"Aadil\")\n",
    "list1.insert(5,\"Godson\")\n",
    "list2=[\"ABC\",\"Alexa\",678.57]\n",
    "list2.extend(list1)\n",
    "print(list2)"
   ]
  },
  {
   "cell_type": "code",
   "execution_count": null,
   "id": "230b326a",
   "metadata": {},
   "outputs": [
    {
     "name": "stdout",
     "output_type": "stream",
     "text": [
      "['chachu', 'Aadil', 'vichu', 89, 'Godson', 67.0, 'True', 'False', 'hi']\n"
     ]
    },
    {
     "ename": "",
     "evalue": "",
     "output_type": "error",
     "traceback": [
      "\u001b[1;31mThe Kernel crashed while executing code in the current cell or a previous cell. \n",
      "\u001b[1;31mPlease review the code in the cell(s) to identify a possible cause of the failure. \n",
      "\u001b[1;31mClick <a href='https://aka.ms/vscodeJupyterKernelCrash'>here</a> for more info. \n",
      "\u001b[1;31mView Jupyter <a href='command:jupyter.viewOutput'>log</a> for further details."
     ]
    }
   ],
   "source": [
    "list1=[\"chachu\",\"vichu\",24,89,67.00,\"True\",\"False\"]\n",
    "list1.append(\"hi\")\n",
    "list1.insert(1,\"Aadil\")\n",
    "list1.insert(5,\"Godson\")\n",
    "list1.remove(24)\n",
    "print(list1)"
   ]
  },
  {
   "cell_type": "code",
   "execution_count": null,
   "id": "e527e30e",
   "metadata": {},
   "outputs": [],
   "source": [
    "def unique_item(text):\n",
    "    words=text.lower().split()\n",
    "    unique=set(words)\n",
    "    return len(unique)\n",
    "unique_item(\"Rashin is a good boy but sometimes rashin is bad boy\")"
   ]
  },
  {
   "cell_type": "code",
   "execution_count": null,
   "id": "4d0bf484",
   "metadata": {},
   "outputs": [],
   "source": []
  }
 ],
 "metadata": {
  "kernelspec": {
   "display_name": "Python 3",
   "language": "python",
   "name": "python3"
  },
  "language_info": {
   "codemirror_mode": {
    "name": "ipython",
    "version": 3
   },
   "file_extension": ".py",
   "mimetype": "text/x-python",
   "name": "python",
   "nbconvert_exporter": "python",
   "pygments_lexer": "ipython3",
   "version": "3.13.5"
  }
 },
 "nbformat": 4,
 "nbformat_minor": 5
}
