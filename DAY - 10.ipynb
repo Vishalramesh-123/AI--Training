{
 "cells": [
  {
   "cell_type": "code",
   "execution_count": 1,
   "id": "b97ddd77",
   "metadata": {},
   "outputs": [
    {
     "name": "stdout",
     "output_type": "stream",
     "text": [
      "thara\n"
     ]
    }
   ],
   "source": [
    "class person():\n",
    "    def __init__(self,name):\n",
    "        self.name = name\n",
    "    def __str__(self):\n",
    "        return self.name \n",
    "p1 = person(\"thara\")\n",
    "print(p1)"
   ]
  },
  {
   "cell_type": "code",
   "execution_count": null,
   "id": "15fa1fb1",
   "metadata": {},
   "outputs": [
    {
     "name": "stdout",
     "output_type": "stream",
     "text": [
      "<__main__.person object at 0x0000022AC5145820>\n"
     ]
    }
   ],
   "source": [
    "class person():\n",
    "    def __init__(self,name):\n",
    "        self.name = name\n",
    "p1 = person(\"thara\")\n",
    "print(p1)\n",
    "#without str it will show address of the obj"
   ]
  },
  {
   "cell_type": "code",
   "execution_count": 1,
   "id": "6f35bba0",
   "metadata": {},
   "outputs": [
    {
     "name": "stdout",
     "output_type": "stream",
     "text": [
      "2020-11-02\n"
     ]
    }
   ],
   "source": [
    "#datetime\n",
    "from datetime import date\n",
    "d = date(year=2020,month=11,day=2)\n",
    "print(d)"
   ]
  },
  {
   "cell_type": "code",
   "execution_count": null,
   "id": "d6fee09a",
   "metadata": {},
   "outputs": [],
   "source": [
    "class person():\n",
    "    def __init__(self,name):\n",
    "        self.name = name\n",
    "    def __repr__(self):\n",
    "        return"
   ]
  },
  {
   "cell_type": "code",
   "execution_count": null,
   "id": "c4990c9d",
   "metadata": {},
   "outputs": [],
   "source": [
    "class person():\n",
    "    def __init__(self,x,y):\n",
    "        self.x=x\n",
    "        self.y=y\n",
    "    def __repr__(self):\n",
    "        return f\"{self.x},{self.y}\"\n",
    "    def __add__(self,other):\n",
    "        return person(self.x+ other.x,self.y + other.y)\n",
    "    def __repr__(self):\n",
    "        return f\"{self.x},{self.y}\"\n",
    "p1=person(2,9)\n",
    "p2=person(4,5)\n",
    "print(p1+p2)    "
   ]
  },
  {
   "cell_type": "code",
   "execution_count": null,
   "id": "d700adf9",
   "metadata": {},
   "outputs": [],
   "source": [
    "class person():\n",
    "    def __init__(self,x,y):\n",
    "        self.x=x\n",
    "        self.y=y\n",
    "    def __repr__(self):\n",
    "        return f\"{self.x},{self.y}\"\n",
    "    #def __eq__(self,other):#__it <#__gt__>#__ge__ >=#__le__<=\n",
    "        return person(self.x==other.x,self.y == other.y)\n",
    "    def __repr__(self):\n",
    "        return f\"{self.x},{self.y}\"\n",
    "p1=person(4,6)\n",
    "p2=person(4,6)\n",
    "print(p1==p2)    "
   ]
  },
  {
   "cell_type": "code",
   "execution_count": null,
   "id": "3a60aa10",
   "metadata": {},
   "outputs": [],
   "source": [
    "class person:\n",
    "    def __init__(s,data):\n",
    "        s.data=data\n",
    "    def __len__(s):\n",
    "        return len(s.data)\n",
    "m=person([15,16,2])\n",
    "print(len(m))     "
   ]
  },
  {
   "cell_type": "code",
   "execution_count": null,
   "id": "3ecced93",
   "metadata": {},
   "outputs": [],
   "source": [
    "class person:\n",
    "    def __init__(s,data):\n",
    "        s.data=data\n",
    "    def __len__(s):\n",
    "        return len(s.data)\n",
    "    def __contains__(s,item):\n",
    "        return item in s.data\n",
    "    def __getitem__(s,i):\n",
    "        return s.data[i]\n",
    "m=person([15,16,7])\n",
    "print(len(m))\n",
    "print(7 in m) \n",
    "print(m[1])     "
   ]
  }
 ],
 "metadata": {
  "kernelspec": {
   "display_name": "Python 3",
   "language": "python",
   "name": "python3"
  },
  "language_info": {
   "codemirror_mode": {
    "name": "ipython",
    "version": 3
   },
   "file_extension": ".py",
   "mimetype": "text/x-python",
   "name": "python",
   "nbconvert_exporter": "python",
   "pygments_lexer": "ipython3",
   "version": "3.12.6"
  }
 },
 "nbformat": 4,
 "nbformat_minor": 5
}
