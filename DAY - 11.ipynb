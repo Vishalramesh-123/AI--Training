{
 "cells": [
  {
   "cell_type": "code",
   "execution_count": null,
   "id": "ae4ee743",
   "metadata": {},
   "outputs": [],
   "source": [
    "#Thread\n",
    "from threading import Thread\n",
    "def my_func():\n",
    "    print(f\"the thread name is Thread 1\")\n",
    "def my_func2():\n",
    "    print(f\"the thread name is Thread 2\")    \n",
    "t1=Thread(target=my_func) \n",
    "t2=Thread(target=my_func2)\n",
    "t1.start() \n",
    "t1.join()  # Wait for t1 to finish before starting t2   \n",
    "t2.start()  "
   ]
  },
  {
   "cell_type": "code",
   "execution_count": null,
   "id": "04fb4480",
   "metadata": {},
   "outputs": [],
   "source": [
    "#Run mulitple threads parallelly\n",
    "from threading import Thread\n",
    "def my_func(name):\n",
    "    print(f\"my name is {name}\")\n",
    "t1=Thread(target=my_func, args=(\"vishal\",)).start()\n",
    "t2=Thread(target=my_func, args=(\"muthu\",)).start()"
   ]
  },
  {
   "cell_type": "code",
   "execution_count": null,
   "id": "6212b98d",
   "metadata": {},
   "outputs": [],
   "source": [
    "import threading,time  #time.sleep is used to pause the execution of the current thread for a specified number of seconds\n",
    "def download():\n",
    "    print(\"Downloading started\")\n",
    "    time.sleep(2)\n",
    "    print(\"Downloading completed\")\n",
    "\n",
    "t1 = threading.Thread(target=download).start()"
   ]
  },
  {
   "cell_type": "code",
   "execution_count": null,
   "id": "f27b8410",
   "metadata": {},
   "outputs": [],
   "source": [
    "#print the thread namefrom threading import Thread\n",
    "from threading import Thread\n",
    "import threading\n",
    "def my_func():\n",
    "    print(\"Thread name is: \",threading.current_thread().name)\n",
    "threading.Thread(target=my_func).start()   \n"
   ]
  },
  {
   "cell_type": "code",
   "execution_count": null,
   "id": "6a3da736",
   "metadata": {},
   "outputs": [],
   "source": [
    "import threading\n",
    "mess=[]\n",
    "def say_hello(n):\n",
    "    mess.append(f\"i am from Thread {n}\")\n",
    "n=100\n",
    "threads=[]\n",
    "for i in range(1,n+1):\n",
    "    t=threading.Thread(target=say_hello, args=(i,))\n",
    "    t.start()\n",
    "    threads.append(t)\n",
    "for t in threads:\n",
    "    t.join()\n",
    "print(mess)        \n"
   ]
  },
  {
   "cell_type": "code",
   "execution_count": null,
   "id": "1f61f34c",
   "metadata": {},
   "outputs": [],
   "source": [
    "import threading\n",
    "\n",
    "def say_hello(n):\n",
    "    print(f\"i am from Thread {n}\")\n",
    "n=100\n",
    "for i in range(1,n+1):\n",
    "    t=threading.Thread(target=say_hello, args=(i,)).start()"
   ]
  },
  {
   "cell_type": "code",
   "execution_count": null,
   "id": "4bebc3ea",
   "metadata": {},
   "outputs": [],
   "source": [
    "#lock method in threading\n",
    "#in lock we can preform the execution with a \n",
    "from threading import Thread,Lock\n",
    "l1=Lock()\n",
    "count=0\n",
    "def increase():\n",
    "    global count \n",
    "    for i in range (1000):\n",
    "        with l1:\n",
    "            count+=1\n",
    "threads=[]\n",
    "n=5\n",
    "for i in range(n):\n",
    "    t=Thread(target=increase)\n",
    "    t.start()\n",
    "    threads.append(t)\n",
    "for t in threads:\n",
    "    t.join() \n",
    "print(\"final\",count)  "
   ]
  }
 ],
 "metadata": {
  "language_info": {
   "name": "python"
  }
 },
 "nbformat": 4,
 "nbformat_minor": 5
}
