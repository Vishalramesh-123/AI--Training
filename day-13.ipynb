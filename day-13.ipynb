{
 "cells": [
  {
   "cell_type": "code",
   "execution_count": null,
   "id": "1726eac8",
   "metadata": {},
   "outputs": [],
   "source": [
    "#mathmatical functions in ai\n",
    "# linear algebra\n",
    "# probability\n",
    "# statistics\n",
    "# hypothesis testing\n",
    "# \n",
    "# #"
   ]
  },
  {
   "cell_type": "code",
   "execution_count": null,
   "id": "a25845a8",
   "metadata": {},
   "outputs": [
    {
     "name": "stdout",
     "output_type": "stream",
     "text": [
      "[1 2 3 4 5 6 7 8 9]\n"
     ]
    }
   ],
   "source": [
    "#arange function\n",
    "#\n",
    "import numpy as np  \n",
    "n=np.arange(1,10)\n",
    "print(n)"
   ]
  },
  {
   "cell_type": "code",
   "execution_count": null,
   "id": "16593877",
   "metadata": {},
   "outputs": [
    {
     "name": "stdout",
     "output_type": "stream",
     "text": [
      "[0.         0.11111111 0.22222222 0.33333333 0.44444444 0.55555556\n",
      " 0.66666667 0.77777778 0.88888889 1.        ]\n"
     ]
    }
   ],
   "source": [
    "#linspace function\n",
    "# linspace(start, stop, num=50, endpoint=True, retstep=False, dtype\n",
    "n=np.linspace(0,1,10)\n",
    "print(n)"
   ]
  },
  {
   "cell_type": "code",
   "execution_count": null,
   "id": "80daeeca",
   "metadata": {},
   "outputs": [
    {
     "name": "stdout",
     "output_type": "stream",
     "text": [
      "[[1. 0. 0.]\n",
      " [0. 1. 0.]\n",
      " [0. 0. 1.]]\n"
     ]
    }
   ],
   "source": [
    "#eye function\n",
    "# eye(N, M=None, k=0, dtype=<class 'float'>)\n",
    "# Returns a 2-D array with ones on the diagonal and zeros elsewhere.\n",
    "print(np.eye(3))"
   ]
  },
  {
   "cell_type": "code",
   "execution_count": 5,
   "id": "49532e31",
   "metadata": {},
   "outputs": [
    {
     "name": "stdout",
     "output_type": "stream",
     "text": [
      "[[ 6  1  1]\n",
      " [ 4 -2  5]\n",
      " [ 2  8  7]]\n",
      "[[ 0.17647059 -0.00326797 -0.02287582]\n",
      " [ 0.05882353 -0.13071895  0.08496732]\n",
      " [-0.11764706  0.1503268   0.05228758]]\n"
     ]
    }
   ],
   "source": [
    "#inverse of a matrix\n",
    "import numpy as np\n",
    "v1=np.matrix([[6,1,1],[4,-2,5],[2,8,7]])\n",
    "print(v1)\n",
    "print(np.linalg.inv(v1))"
   ]
  },
  {
   "cell_type": "code",
   "execution_count": 7,
   "id": "4108c09b",
   "metadata": {},
   "outputs": [
    {
     "name": "stdout",
     "output_type": "stream",
     "text": [
      "-306.0\n"
     ]
    }
   ],
   "source": [
    "#determinant of matrix\n",
    "v1=np.matrix([[6,1,1],[4,-2,5],[2,8,7]])\n",
    "print(np.linalg.det(v1))"
   ]
  },
  {
   "cell_type": "code",
   "execution_count": null,
   "id": "7ec7533c",
   "metadata": {},
   "outputs": [],
   "source": [
    "#pricpal component analysis\n",
    "# PCA is a technique used to emphasize variation and bring out strong patterns in a dataset."
   ]
  },
  {
   "cell_type": "code",
   "execution_count": 10,
   "id": "83f6cc3b",
   "metadata": {},
   "outputs": [
    {
     "name": "stdout",
     "output_type": "stream",
     "text": [
      "Eigenvalues: [5. 2.]\n",
      "Eigenvectors: [[ 0.89442719 -0.70710678]\n",
      " [ 0.4472136   0.70710678]]\n"
     ]
    }
   ],
   "source": [
    "from numpy.linalg import eig\n",
    "m= np.array([[4, 2], [1, 3]])\n",
    "values, vectors = eig(m)\n",
    "print(\"Eigenvalues:\", values)\n",
    "print(\"Eigenvectors:\", vectors)"
   ]
  },
  {
   "cell_type": "code",
   "execution_count": 17,
   "id": "8659f191",
   "metadata": {},
   "outputs": [
    {
     "name": "stdout",
     "output_type": "stream",
     "text": [
      "[[0.48857118 0.1437628  0.58068945 0.70578065 0.3830446  0.94531388\n",
      "  0.07083016 0.79847954 0.22116658 0.30693094 0.53214462 0.90017824\n",
      "  0.66269647 0.4790892  0.22181099 0.92196394 0.47262915 0.84465567\n",
      "  0.14773609 0.27795763 0.00253949 0.38390933 0.72799079 0.40385996\n",
      "  0.81633972 0.42513764 0.48001756 0.08369391 0.77118772 0.30469777]\n",
      " [0.25619085 0.01829629 0.13084222 0.89452634 0.75428917 0.62235918\n",
      "  0.90334884 0.80665746 0.85799647 0.78771791 0.38717211 0.72794548\n",
      "  0.36611889 0.11457835 0.33462747 0.30428632 0.44869329 0.51745011\n",
      "  0.12970088 0.80916007 0.68688413 0.17176603 0.63543517 0.88435395\n",
      "  0.16875984 0.88906263 0.12679222 0.77709783 0.3798619  0.3583931 ]]\n"
     ]
    }
   ],
   "source": [
    "a=np.random.rand(2,30)\n",
    "print(a)"
   ]
  },
  {
   "cell_type": "code",
   "execution_count": 18,
   "id": "c0fecb2f",
   "metadata": {},
   "outputs": [],
   "source": [
    "v1=np.array([[1, 2], [3, 4]])\n"
   ]
  },
  {
   "cell_type": "code",
   "execution_count": 6,
   "id": "116ab504",
   "metadata": {},
   "outputs": [
    {
     "ename": "AttributeError",
     "evalue": "'list' object has no attribute 'val'",
     "output_type": "error",
     "traceback": [
      "\u001b[31m---------------------------------------------------------------------------\u001b[39m",
      "\u001b[31mAttributeError\u001b[39m                            Traceback (most recent call last)",
      "\u001b[36mCell\u001b[39m\u001b[36m \u001b[39m\u001b[32mIn[6]\u001b[39m\u001b[32m, line 3\u001b[39m\n\u001b[32m      1\u001b[39m x=\u001b[32m0\u001b[39m\n\u001b[32m      2\u001b[39m a=[\u001b[32m1\u001b[39m,\u001b[32m2\u001b[39m,\u001b[32m3\u001b[39m,\u001b[32m4\u001b[39m,\u001b[32m5\u001b[39m]\n\u001b[32m----> \u001b[39m\u001b[32m3\u001b[39m \u001b[38;5;28;01mif\u001b[39;00m a : x=a.val\n\u001b[32m      4\u001b[39m \u001b[38;5;28mprint\u001b[39m(x)\n",
      "\u001b[31mAttributeError\u001b[39m: 'list' object has no attribute 'val'"
     ]
    }
   ],
   "source": [
    "x=0\n",
    "a=[1,2,3,4,5]\n",
    "if a : x=a.val\n",
    "print(x)"
   ]
  }
 ],
 "metadata": {
  "kernelspec": {
   "display_name": "Python 3",
   "language": "python",
   "name": "python3"
  },
  "language_info": {
   "codemirror_mode": {
    "name": "ipython",
    "version": 3
   },
   "file_extension": ".py",
   "mimetype": "text/x-python",
   "name": "python",
   "nbconvert_exporter": "python",
   "pygments_lexer": "ipython3",
   "version": "3.11.9"
  }
 },
 "nbformat": 4,
 "nbformat_minor": 5
}
