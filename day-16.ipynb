{
 "cells": [
  {
   "cell_type": "code",
   "execution_count": null,
   "id": "4aeab2a9",
   "metadata": {},
   "outputs": [],
   "source": [
    "#array -\n",
    "#[78.33,\"ddd\"]-list\n",
    "\n",
    "\n",
    "#similar datatype - array\n"
   ]
  },
  {
   "cell_type": "code",
   "execution_count": 29,
   "id": "e3b02ea3",
   "metadata": {},
   "outputs": [
    {
     "name": "stdout",
     "output_type": "stream",
     "text": [
      "10\n"
     ]
    }
   ],
   "source": [
    "a=[20,5,8,10]\n",
    "aa=sorted(a)\n",
    "print(aa[-2])"
   ]
  },
  {
   "cell_type": "code",
   "execution_count": 30,
   "id": "5e94887b",
   "metadata": {},
   "outputs": [
    {
     "name": "stdout",
     "output_type": "stream",
     "text": [
      "10\n"
     ]
    }
   ],
   "source": [
    "a=[20,5,8,10]\n",
    "a.sort(reverse=False)\n",
    "print(a[-2])"
   ]
  },
  {
   "cell_type": "code",
   "execution_count": 38,
   "id": "cd4361f5",
   "metadata": {},
   "outputs": [
    {
     "name": "stdout",
     "output_type": "stream",
     "text": [
      "5\n"
     ]
    }
   ],
   "source": [
    "a=[20,5]\n",
    "m1 = len(a)\n",
    "if m1<2:\n",
    "    print (\"No second largest element\")\n",
    "   \n",
    "    \n",
    "for i in a:\n",
    "    max1 = max(a)\n",
    "    a.remove(max1)\n",
    "    max2 = max(a)\n",
    "    print(max2)\n",
    "    break\n"
   ]
  },
  {
   "cell_type": "code",
   "execution_count": 32,
   "id": "88425567",
   "metadata": {},
   "outputs": [
    {
     "name": "stdout",
     "output_type": "stream",
     "text": [
      "10\n"
     ]
    }
   ],
   "source": [
    "a=[20,5,8,10]\n",
    "for i in range(len(a)-1):\n",
    "    if a[i]>a[i+1]:\n",
    "        t=a[i]\n",
    "        a[i]=a[i+1]\n",
    "        a[i+1]=t\n",
    "print(a[-2])        \n",
    "\n",
    "    "
   ]
  },
  {
   "cell_type": "code",
   "execution_count": 44,
   "id": "c8987a32",
   "metadata": {},
   "outputs": [
    {
     "name": "stdout",
     "output_type": "stream",
     "text": [
      "the absentees are ['muthu', 'godson', 'tamil']\n"
     ]
    }
   ],
   "source": [
    "a=[\"vishal\",\"razi\",\"muthu\",\"godson\",\"tamil\"]\n",
    "b=[\"vishal\",\"razi\"]\n",
    "c=[]\n",
    "for i in a:\n",
    "    if i not in b:\n",
    "        c.append(i)\n",
    "print(f\"the absentees are {c}\")"
   ]
  },
  {
   "cell_type": "code",
   "execution_count": 50,
   "id": "7345fbe1",
   "metadata": {},
   "outputs": [
    {
     "name": "stdout",
     "output_type": "stream",
     "text": [
      "[120, 180]\n"
     ]
    }
   ],
   "source": [
    "a=[50,120,50,20,180]\n",
    "s=[]\n",
    "for i in a:\n",
    "    if i*.9>=100:\n",
    "        s.append(i)\n",
    "print(s)\n",
    "    "
   ]
  },
  {
   "cell_type": "code",
   "execution_count": 49,
   "id": "279fe030",
   "metadata": {},
   "outputs": [
    {
     "name": "stdout",
     "output_type": "stream",
     "text": [
      "[120, 180]\n"
     ]
    }
   ],
   "source": [
    "a=[50,120,50,20,180]\n",
    "s=[]\n",
    "for i in a:\n",
    "    q=i/10\n",
    "    if i-q>=100:\n",
    "        s.append(i)\n",
    "print(s)\n",
    "    "
   ]
  },
  {
   "cell_type": "code",
   "execution_count": 54,
   "id": "c9b68c35",
   "metadata": {},
   "outputs": [
    {
     "name": "stdout",
     "output_type": "stream",
     "text": [
      "{'3Am': 2, '4Am': 2, '5Am': 2}\n"
     ]
    }
   ],
   "source": [
    "a=[\"3Am\",\"4Am\",\"3Am\",\"5Am\",\"4Am\",\"5Am\"]\n",
    "b={}\n",
    "for i in a:\n",
    "    if i not in b:\n",
    "        b[i]=1\n",
    "    else:\n",
    "        b[i]+=1\n",
    "print(b)        "
   ]
  },
  {
   "cell_type": "code",
   "execution_count": 55,
   "id": "f0bb8a7f",
   "metadata": {},
   "outputs": [
    {
     "name": "stdout",
     "output_type": "stream",
     "text": [
      "Counter({'3Am': 2, '4Am': 2, '5Am': 2})\n"
     ]
    }
   ],
   "source": [
    "from collections import Counter\n",
    "a=[\"3Am\",\"4Am\",\"3Am\",\"5Am\",\"4Am\",\"5Am\"]\n",
    "b=Counter(a)\n",
    "print(b)"
   ]
  },
  {
   "cell_type": "code",
   "execution_count": 6,
   "id": "6608d609",
   "metadata": {},
   "outputs": [
    {
     "name": "stdout",
     "output_type": "stream",
     "text": [
      "the total is 430\n",
      "the average is 107.5\n"
     ]
    }
   ],
   "source": [
    "e_b=[10,5,8,20]\n",
    "sum=0\n",
    "for i in e_b:\n",
    "    q=i*10\n",
    "    sum+= q\n",
    "print(\"the total is\",sum)\n",
    "print(\"the average is\",sum/len(e_b))    \n",
    "\n",
    "\n",
    "\n"
   ]
  }
 ],
 "metadata": {
  "kernelspec": {
   "display_name": "Python 3",
   "language": "python",
   "name": "python3"
  },
  "language_info": {
   "codemirror_mode": {
    "name": "ipython",
    "version": 3
   },
   "file_extension": ".py",
   "mimetype": "text/x-python",
   "name": "python",
   "nbconvert_exporter": "python",
   "pygments_lexer": "ipython3",
   "version": "3.11.9"
  }
 },
 "nbformat": 4,
 "nbformat_minor": 5
}
