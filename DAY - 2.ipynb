{
 "cells": [
  {
   "cell_type": "code",
   "execution_count": null,
   "id": "b4ddd8e5",
   "metadata": {},
   "outputs": [],
   "source": [
    "#function - def keyword \n",
    "def my_function(a,b):#parameter\n",
    "   print(\"hello\")\n",
    "   return a+b\n",
    "my_function(10,12) #argument  "
   ]
  },
  {
   "cell_type": "code",
   "execution_count": null,
   "id": "e373d0e5",
   "metadata": {},
   "outputs": [],
   "source": [
    "def my_fun(ch1,ch2,ch3):\n",
    "    print(f\"the child name is {ch2}\")\n",
    "my_fun(ch1=\"hhhteyer\",ch2=\"rrfgv\",ch3=\"sdfgvgf\") "
   ]
  },
  {
   "cell_type": "code",
   "execution_count": null,
   "id": "33b4798f",
   "metadata": {},
   "outputs": [],
   "source": [
    "def my_fun(*ch):\n",
    "    print(f\"the child name is {ch[2]}\")\n",
    "my_fun(\"fffrq\",\"rsdfgv\",\"sdagf\")    "
   ]
  }
 ],
 "metadata": {
  "kernelspec": {
   "display_name": "Python 3",
   "language": "python",
   "name": "python3"
  },
  "language_info": {
   "name": "python",
   "version": "3.12.6"
  }
 },
 "nbformat": 4,
 "nbformat_minor": 5
}
